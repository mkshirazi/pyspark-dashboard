{
 "cells": [
  {
   "cell_type": "code",
   "execution_count": 1,
   "metadata": {
    "id": "zUeU3a8f27wI"
   },
   "outputs": [
    {
     "name": "stderr",
     "output_type": "stream",
     "text": [
      "The system cannot find the path specified.\n",
      "The system cannot find the path specified.\n",
      "'wget' is not recognized as an internal or external command,\n",
      "operable program or batch file.\n",
      "tar: Error opening archive: Failed to open 'spark-2.4.8-bin-hadoop2.7.tgz'\n"
     ]
    }
   ],
   "source": [
    "# !apt-get update -qq > /dev/null\n",
    "# !apt-get install openjdk-8-jdk-headless -qq > /dev/null\n",
    "# !wget -q https://downloads.apache.org/spark/spark-2.4.8/spark-2.4.8-bin-hadoop2.7.tgz\n",
    "# !tar xf spark-2.4.8-bin-hadoop2.7.tgz\n",
    "# !pip install -q findspark"
   ]
  },
  {
   "cell_type": "code",
   "execution_count": 2,
   "metadata": {},
   "outputs": [
    {
     "data": {
      "text/plain": [
       "'/home/mmkshira/spark-3.2.0-bin-hadoop2.7'"
      ]
     },
     "execution_count": 2,
     "metadata": {},
     "output_type": "execute_result"
    }
   ],
   "source": [
    "import os\n",
    "os.environ[\"JAVA_HOME\"] = \"/usr/lib/jvm/java-8-openjdk-amd64\"\n",
    "os.environ[\"SPARK_HOME\"] = \"/home/mmkshira/spark-3.2.0-bin-hadoop2.7\"\n",
    "\n",
    "\n",
    "import findspark\n",
    "findspark.init()\n",
    "findspark.find()"
   ]
  },
  {
   "cell_type": "code",
   "execution_count": 3,
   "metadata": {
    "id": "iCxRoN_h2-J_"
   },
   "outputs": [
    {
     "name": "stderr",
     "output_type": "stream",
     "text": [
      "21/12/11 22:12:27 WARN Utils: Your hostname, scslt388 resolves to a loopback address: 127.0.1.1; using 10.0.0.26 instead (on interface wlp0s20f3)\n",
      "21/12/11 22:12:27 WARN Utils: Set SPARK_LOCAL_IP if you need to bind to another address\n",
      "Using Spark's default log4j profile: org/apache/spark/log4j-defaults.properties\n",
      "Setting default log level to \"WARN\".\n",
      "To adjust logging level use sc.setLogLevel(newLevel). For SparkR, use setLogLevel(newLevel).\n",
      "21/12/11 22:12:29 WARN NativeCodeLoader: Unable to load native-hadoop library for your platform... using builtin-java classes where applicable\n",
      "21/12/11 22:12:31 WARN Utils: Service 'SparkUI' could not bind on port 4040. Attempting port 4041.\n",
      "21/12/11 22:12:31 WARN Utils: Service 'SparkUI' could not bind on port 4041. Attempting port 4042.\n"
     ]
    }
   ],
   "source": [
    "from pyspark import SparkContext\n",
    "sc = SparkContext(appName=\"YourTest\", master=\"local[*]\")\n",
    "# sc = SparkContext(\"local\", \"test-app\")"
   ]
  },
  {
   "cell_type": "code",
   "execution_count": 4,
   "metadata": {
    "id": "VtuaR_A-3AHL"
   },
   "outputs": [],
   "source": [
    "# from pyspark.sql import SQLContext\n",
    "# sqlContext = SQLContext(sc)\n",
    "\n",
    "from pyspark.sql import SparkSession\n",
    "import random\n",
    "\n",
    "spark = SparkSession.builder.appName(\"YourTest\").master(\"local[2]\").config('spark.ui.port', random.randrange(4000,5000)).getOrCreate()"
   ]
  },
  {
   "cell_type": "markdown",
   "metadata": {
    "id": "wqiU4r_Y3_TR"
   },
   "source": [
    "## Data upload"
   ]
  },
  {
   "cell_type": "code",
   "execution_count": 7,
   "metadata": {
    "id": "ZhgNzszA3FRF"
   },
   "outputs": [],
   "source": [
    "# from google.colab import files\n",
    "# uploaded = files.upload()"
   ]
  },
  {
   "cell_type": "code",
   "execution_count": 5,
   "metadata": {
    "colab": {
     "base_uri": "https://localhost:8080/"
    },
    "id": "S8PW_w5V3Hub",
    "outputId": "5e24b714-6165-444e-b48e-28ff5045dab6"
   },
   "outputs": [
    {
     "name": "stderr",
     "output_type": "stream",
     "text": [
      "21/12/11 22:12:51 WARN package: Truncated the string representation of a plan since it was too large. This behavior can be adjusted by setting 'spark.sql.debug.maxToStringFields'.\n"
     ]
    },
    {
     "data": {
      "text/plain": [
       "DataFrame[abstract: string, authors: array<struct<affiliation:string,affiliationid:bigint,country:string,gridid:string,id:bigint,name:string,order:bigint>>, citation_for_year: array<struct<citationcount:bigint,year:string>>, citationcount: bigint, conferenceseriesid: bigint, confname: string, confplace: string, confseries: string, confseriesname: string, countries: struct<albania:double,algeria:double,argentina:double,australia:double,austria:double,azerbaijan:double,bahrain:double,bangladesh:double,belarus:double,belgium:double,bermuda:double,bolivia:double,bosnia and herzegovina:double,botswana:double,brazil:double,british virgin islands:double,brunei:double,bulgaria:double,cambodia:double,cameroon:double,canada:double,chile:double,china:double,colombia:double,costa rica:double,croatia:double,cuba:double,cyprus:double,czechia:double,democratic republic of the congo:double,denmark:double,ecuador:double,egypt:double,estonia:double,ethiopia:double,fiji:double,finland:double,france:double,germany:double,ghana:double,greece:double,hungary:double,iceland:double,india:double,indonesia:double,iran:double,iraq:double,ireland:double,israel:double,italy:double,jamaica:double,japan:double,jordan:double,kazakhstan:double,kenya:double,kuwait:double,latvia:double,lebanon:double,libya:double,liechtenstein:double,lithuania:double,luxembourg:double,macao:double,malawi:double,malaysia:double,malta:double,mauritius:double,mexico:double,moldova:double,mongolia:double,montenegro:double,morocco:double,mozambique:double,myanmar:double,namibia:double,nepal:double,netherlands:double,new zealand:double,nigeria:double,north macedonia:double,norway:double,oman:double,pakistan:double,palestinian territory:double,panama:double,peru:double,philippines:double,poland:double,portugal:double,qatar:double,reunion:double,romania:double,russia:double,saudi arabia:double,senegal:double,serbia:double,singapore:double,slovakia:double,slovenia:double,south africa:double,south korea:double,spain:double,sri lanka:double,sudan:double,sweden:double,switzerland:double,syria:double,taiwan:double,tanzania:double,thailand:double,trinidad and tobago:double,tunisia:double,turkey:double,uganda:double,ukraine:double,united arab emirates:double,united kingdom:double,united states:double,uruguay:double,venezuela:double,vietnam:double,zimbabwe:double>, cso_annotated: boolean, cso_enhanced_topics: array<string>, cso_semantic_topics: array<string>, cso_syntactic_topics: array<string>, dbpedia_categories: array<string>, doi: string, grid_type: struct<archive:double,company:double,education:double,facility:double,government:double,healthcare:double,nonprofit:double,other:double>, id: bigint, industrial_sectors: array<string>, journame: string, language: array<string>, papertitle: string, references: array<bigint>, topics: array<string>, type: string, urls: array<string>, year: string]"
      ]
     },
     "execution_count": 5,
     "metadata": {},
     "output_type": "execute_result"
    }
   ],
   "source": [
    "data = spark.read.json(\"sample.jsonl\").sort(\"year\",ascending=False)\n",
    "data.cache()"
   ]
  },
  {
   "cell_type": "code",
   "execution_count": 6,
   "metadata": {
    "colab": {
     "base_uri": "https://localhost:8080/"
    },
    "id": "k2bn_8213J92",
    "outputId": "46490cf3-70f9-4397-c19a-df58824818e9"
   },
   "outputs": [
    {
     "name": "stderr",
     "output_type": "stream",
     "text": []
    },
    {
     "data": {
      "text/plain": [
       "50000"
      ]
     },
     "execution_count": 6,
     "metadata": {},
     "output_type": "execute_result"
    }
   ],
   "source": [
    "data.count()"
   ]
  },
  {
   "cell_type": "markdown",
   "metadata": {
    "id": "SYIfqvEj4Bhn"
   },
   "source": [
    "## Importing necessary packages"
   ]
  },
  {
   "cell_type": "code",
   "execution_count": 10,
   "metadata": {
    "id": "uw-vIqi23d3V"
   },
   "outputs": [],
   "source": [
    "# #installing dash\n",
    "# !pip install dash\n",
    "# !pip install jupyter-dash\n",
    "# !pip install dash_bootstrap_components"
   ]
  },
  {
   "cell_type": "code",
   "execution_count": 7,
   "metadata": {
    "id": "MoBQ90Zp3q01"
   },
   "outputs": [],
   "source": [
    "### importing libraries\n",
    "#json\n",
    "# import jsonlines\n",
    "#spark\n",
    "from pyspark.sql.functions import explode,col\n",
    "from pyspark.sql import functions as F\n",
    "from pyspark.sql.functions import concat_ws\n",
    "#plotly\n",
    "import plotly.graph_objects as go\n",
    "import plotly.express as px\n",
    "from plotly.subplots import make_subplots\n",
    "# matplotlib and wordcloud\n",
    "import matplotlib.pyplot as plt\n",
    "from wordcloud import WordCloud\n",
    "#dash\n",
    "from jupyter_dash import JupyterDash\n",
    "from dash import dcc\n",
    "import dash_bootstrap_components as dbc\n",
    "from dash import html\n",
    "from dash.dependencies import Input, Output \n",
    "# numerical computing\n",
    "import pandas as pd\n",
    "import numpy as np"
   ]
  },
  {
   "cell_type": "markdown",
   "metadata": {
    "id": "OV73Jmr3342C"
   },
   "source": [
    "## Preparing the data"
   ]
  },
  {
   "cell_type": "code",
   "execution_count": 58,
   "metadata": {
    "id": "WqUGWoI93rSk"
   },
   "outputs": [
    {
     "name": "stderr",
     "output_type": "stream",
     "text": [
      "21/12/11 22:57:57 WARN CacheManager: Asked to cache already cached data.\n",
      "21/12/11 22:57:57 WARN CacheManager: Asked to cache already cached data.\n",
      "21/12/11 22:57:57 WARN CacheManager: Asked to cache already cached data.\n",
      "21/12/11 22:57:57 WARN CacheManager: Asked to cache already cached data.\n",
      "21/12/11 22:57:57 WARN CacheManager: Asked to cache already cached data.\n"
     ]
    }
   ],
   "source": [
    "# Main Tables Used for visuals\n",
    "\n",
    "# Main authors data\n",
    "authors_data_1 = data.select(\"id\",explode(\"authors\").alias(\"authors\"),\"topics\")\n",
    "\n",
    "authors_data_2 = (authors_data_1.select(authors_data_1[\"id\"].alias(\"paper_id\"),\\\n",
    "    F.col(\"authors\").getItem(\"name\").alias(\"name\"), \\\n",
    "    F.col(\"authors\").getItem(\"country\").alias(\"country\"), \\\n",
    "    F.col(\"authors\").getItem(\"id\").alias(\"author_id\"), \\\n",
    "    F.col(\"authors\").getItem(\"affiliation\").alias(\"affiliation\"), \\\n",
    "    F.col(\"authors\").getItem(\"affiliationid\").alias(\"affiliationid\"), \\\n",
    "    F.col(\"authors\").getItem(\"order\").alias(\"order\"), explode(\"topics\").alias(\"topic\")))\n",
    "\n",
    "authors_data_2.cache()\n",
    "\n",
    "# Removing authors with less than 5 papers\n",
    "authors_valid = authors_data_2.groupBy(\"author_id\").agg(F.count(\"paper_id\")).filter(col(\"count(paper_id)\")>5)\n",
    "authors_data = authors_data_2.join(authors_valid,on=\"author_id\",how=\"leftsemi\")\n",
    "\n",
    "authors_data.cache()\n",
    "\n",
    "# Topics per Author\n",
    "authors_topics = authors_data.join(data.select(\"id\",\"topics\"),authors_data.paper_id==data.id,\"left\")\\\n",
    "            .select(\"author_id\",explode(\"topics\").alias(\"topics\"))\\\n",
    "            .groupBy([\"author_id\",\"topics\"]).count()\n",
    "\n",
    "authors_topics.cache()\n",
    "\n",
    "# Author Stats\n",
    "# Review g-index and fix h-index\n",
    "from pyspark.sql.window import Window\n",
    "windowSpec  = Window.partitionBy(\"author_id\").orderBy(col(\"citationcount\").desc())\n",
    "authors_stats = authors_data.join(data.select(\"id\",\"citationcount\"),authors_data.paper_id==data.id,\"left\")\\\n",
    "                            .withColumn(\"h_index\",F.when(F.dense_rank().over(windowSpec)<=col(\"citationcount\"),1).otherwise(0))\\\n",
    "                            .groupBy(\"author_id\")\\\n",
    "                            .agg(F.first(\"name\").alias(\"name\"),\\\n",
    "                                F.first(\"country\").alias(\"country\"),\\\n",
    "                                F.first(\"affiliation\").alias(\"last_affiliation\"),\\\n",
    "                                F.count(\"paper_id\").alias(\"papers_count\"), \\\n",
    "                                F.avg(\"order\").alias(\"avg_order\"),\\\n",
    "                                F.avg(\"citationcount\").alias(\"avg_citations\"),\\\n",
    "                                F.sum(\"citationcount\").alias(\"total_citations\"),\\\n",
    "                                F.sum(\"h_index\").alias(\"h_index\"),\\\n",
    "                                F.first(\"paper_id\").alias(\"last_paper_id\"),\\\n",
    "                                F.collect_list(\"paper_id\").alias(\"all_paper_id\"))\\\n",
    "                            .sort(\"h_index\",ascending=False)\n",
    "authors_stats = authors_stats.fillna({\"last_affiliation\":\"Not Available\"})\n",
    "authors_stats.cache()\n",
    "\n",
    "# Coauthors\n",
    "coauthors_data = authors_data.select(\"paper_id\",\"topic\",\"author_id\")\\\n",
    "            .join(data.select(\"id\",explode(\"authors\").alias(\"authors\")),authors_data.paper_id==data.id,\"left\")\\\n",
    "            .select(\"paper_id\", \"author_id\", \"topic\",\\\n",
    "                    F.col(\"authors\").getItem(\"id\").alias(\"coauthors_ids\"),\\\n",
    "                    F.col(\"authors\").getItem(\"country\").alias(\"country\"))\n",
    "\n",
    "coauthors_data.cache()\n",
    "\n",
    "\n",
    "# Map Data\n",
    "map_data = px.data.gapminder().query(\"year==2007\")[[\"iso_alpha\",\"country\",\"continent\"]]\n",
    "\n",
    "\n",
    "# Average Data\n",
    "avg_data = authors_stats.select(\"papers_count\",\"avg_order\",\"avg_citations\",\"total_citations\",\"h_index\")\\\n",
    "     .agg(F.avg(\"papers_count\").alias(\"papers_count\"),\\\n",
    "          # F.avg(\"avg_order\").alias(\"avg_order\"),\\\n",
    "          F.avg(\"total_citations\").alias(\"total_citations\"),\\\n",
    "          F.avg(\"avg_citations\").alias(\"avg_citations\"),\\\n",
    "          F.avg(\"h_index\").alias(\"h_index\"))\\\n",
    "     .toPandas()\n",
    "\n",
    "\n",
    "def filtered_data(author_input):\n",
    "    global filtered_stats\n",
    "    filtered_stats = authors_stats.filter(col(\"name\") == author_input.lower()).toPandas()\n",
    "    return filtered_stats"
   ]
  },
  {
   "cell_type": "code",
   "execution_count": 77,
   "metadata": {},
   "outputs": [
    {
     "data": {
      "application/vnd.plotly.v1+json": {
       "config": {
        "plotlyServerURL": "https://plot.ly"
       },
       "data": [
        {
         "dimensions": [
          {
           "label": "Author",
           "values": [
            1214007197,
            1214007197,
            1214007197,
            1214007197,
            1214007197,
            1214007197,
            1214007197,
            1214007197,
            1214007197,
            1214007197,
            1214007197,
            1214007197,
            1214007197,
            1214007197,
            1214007197,
            1214007197,
            1214007197,
            1214007197,
            1214007197,
            1214007197,
            1214007197,
            1214007197,
            1214007197,
            1214007197,
            1214007197,
            1214007197,
            1214007197,
            1214007197,
            1214007197,
            1214007197,
            1214007197,
            1214007197,
            1214007197,
            1214007197,
            1214007197,
            1214007197,
            1214007197,
            1214007197,
            1214007197,
            1214007197,
            1214007197,
            1214007197,
            1214007197,
            1214007197,
            1214007197,
            1214007197,
            1214007197,
            1214007197,
            1214007197,
            1214007197,
            1214007197,
            1214007197,
            1214007197,
            1214007197,
            1214007197,
            1214007197,
            1214007197,
            1214007197,
            1214007197,
            1214007197,
            1214007197,
            1214007197,
            1214007197,
            1214007197,
            1214007197,
            1214007197,
            1214007197,
            1214007197,
            1214007197,
            1214007197,
            1214007197,
            1214007197,
            1214007197,
            1214007197,
            1214007197,
            1214007197,
            1214007197,
            1214007197,
            1214007197,
            1214007197,
            1214007197,
            1214007197,
            1214007197,
            1214007197,
            1214007197,
            1214007197,
            1214007197,
            1214007197,
            1214007197,
            1214007197,
            1214007197,
            1214007197,
            1214007197,
            1214007197,
            1214007197,
            1214007197,
            1214007197,
            1214007197,
            1214007197,
            1214007197,
            1214007197,
            1214007197,
            1214007197,
            1214007197,
            1214007197,
            1214007197,
            1214007197,
            1214007197,
            1214007197,
            1214007197,
            1214007197,
            1214007197,
            1214007197,
            1214007197,
            1214007197,
            1214007197,
            1214007197,
            1214007197,
            1214007197,
            1214007197,
            1214007197,
            1214007197,
            1214007197,
            1214007197,
            1214007197,
            1214007197,
            1214007197,
            1214007197,
            1214007197,
            1214007197,
            1214007197,
            1214007197,
            1214007197,
            1214007197,
            1214007197,
            1214007197,
            1214007197,
            1214007197,
            1214007197,
            1214007197,
            1214007197,
            1214007197,
            1214007197,
            1214007197,
            1214007197,
            1214007197,
            1214007197,
            1214007197,
            1214007197,
            1214007197,
            1214007197,
            1214007197,
            1214007197,
            1214007197,
            1214007197,
            1214007197,
            1214007197,
            1214007197,
            1214007197,
            1214007197,
            1214007197,
            1214007197,
            1214007197,
            1214007197,
            1214007197,
            1214007197,
            1214007197,
            1214007197,
            1214007197,
            1214007197,
            1214007197,
            1214007197,
            1214007197,
            1214007197,
            1214007197,
            1214007197,
            1214007197,
            1214007197,
            1214007197,
            1214007197,
            1214007197,
            1214007197,
            1214007197,
            1214007197,
            1214007197,
            1214007197,
            1214007197,
            1214007197,
            1214007197,
            1214007197,
            1214007197,
            1214007197,
            1214007197,
            1214007197,
            1214007197,
            1214007197,
            1214007197,
            1214007197,
            1214007197,
            1214007197,
            1214007197,
            1214007197,
            1214007197,
            1214007197,
            1214007197,
            1214007197,
            1214007197,
            1214007197,
            1214007197,
            1214007197,
            1214007197,
            1214007197,
            1214007197,
            1214007197,
            1214007197,
            1214007197,
            1214007197,
            1214007197,
            1214007197,
            1214007197,
            1214007197,
            1214007197,
            1214007197,
            1214007197,
            1214007197,
            1214007197,
            1214007197,
            1214007197,
            1214007197,
            1214007197,
            1214007197,
            1214007197,
            1214007197,
            1214007197,
            1214007197,
            1214007197,
            1214007197,
            1214007197,
            1214007197,
            1214007197,
            1214007197,
            1214007197,
            1214007197,
            1214007197,
            1214007197,
            1214007197,
            1214007197,
            1214007197,
            1214007197,
            1214007197,
            1214007197,
            1214007197,
            1214007197,
            1214007197,
            1214007197,
            1214007197,
            1214007197,
            1214007197,
            1214007197,
            1214007197,
            1214007197,
            1214007197,
            1214007197,
            1214007197,
            1214007197,
            1214007197,
            1214007197,
            1214007197,
            1214007197,
            1214007197,
            1214007197,
            1214007197,
            1214007197,
            1214007197,
            1214007197,
            1214007197,
            1214007197,
            1214007197,
            1214007197,
            1214007197,
            1214007197,
            1214007197,
            1214007197,
            1214007197,
            1214007197,
            1214007197,
            1214007197,
            1214007197,
            1214007197,
            1214007197,
            1214007197,
            1214007197,
            1214007197,
            1214007197,
            1214007197,
            1214007197,
            1214007197,
            1214007197,
            1214007197,
            1214007197,
            1214007197,
            1214007197,
            1214007197,
            1214007197,
            1214007197,
            1214007197,
            1214007197,
            1214007197,
            1214007197,
            1214007197,
            1214007197,
            1214007197,
            1214007197,
            1214007197,
            1214007197,
            1214007197,
            1214007197,
            1214007197,
            1214007197,
            1214007197,
            1214007197,
            1214007197,
            1214007197,
            1214007197,
            1214007197,
            1214007197,
            1214007197,
            1214007197,
            1214007197,
            1214007197,
            1214007197,
            1214007197,
            1214007197,
            1214007197,
            1214007197,
            1214007197,
            1214007197,
            1214007197,
            1214007197,
            1214007197,
            1214007197,
            1214007197,
            1214007197,
            1214007197,
            1214007197,
            1214007197,
            1214007197,
            1214007197,
            1214007197,
            1214007197,
            1214007197,
            1214007197,
            1214007197,
            1214007197,
            1214007197,
            1214007197,
            1214007197,
            1214007197,
            1214007197,
            1214007197,
            1214007197,
            1214007197,
            1214007197,
            1214007197,
            1214007197,
            1214007197,
            1214007197,
            1214007197,
            1214007197,
            1214007197,
            1214007197,
            1214007197,
            1214007197,
            1214007197,
            1214007197,
            1214007197,
            1214007197,
            1214007197,
            1214007197,
            1214007197,
            1214007197,
            1214007197,
            1214007197,
            1214007197,
            1214007197,
            1214007197,
            1214007197,
            1214007197,
            1214007197,
            1214007197,
            1214007197,
            1214007197,
            1214007197,
            1214007197,
            1214007197,
            1214007197
           ]
          },
          {
           "label": "coauthors_ids",
           "values": [
            2029042347,
            2557101167,
            2251612900,
            2029042347,
            2251612900,
            2251612900,
            2226006253,
            2601143034,
            2079793531,
            1214007197,
            2077455217,
            1512285725,
            2079793531,
            1512285725,
            2077455217,
            2601143034,
            1214007197,
            2119904241,
            1214007197,
            2226006253,
            2119904241,
            2557101167,
            2029042347,
            2557101167,
            2251612900,
            2029042347,
            2251612900,
            2251612900,
            2226006253,
            2601143034,
            2079793531,
            1214007197,
            2077455217,
            1512285725,
            2079793531,
            1512285725,
            2077455217,
            2601143034,
            1214007197,
            2119904241,
            1214007197,
            2226006253,
            2119904241,
            2557101167,
            2029042347,
            2557101167,
            2251612900,
            2029042347,
            2251612900,
            2251612900,
            2226006253,
            2601143034,
            2079793531,
            1214007197,
            2077455217,
            1512285725,
            2079793531,
            1512285725,
            2077455217,
            2601143034,
            1214007197,
            2119904241,
            1214007197,
            2226006253,
            2119904241,
            2557101167,
            2029042347,
            2557101167,
            2251612900,
            2029042347,
            2251612900,
            2251612900,
            2226006253,
            2601143034,
            2079793531,
            1214007197,
            2077455217,
            1512285725,
            2079793531,
            1512285725,
            2077455217,
            2601143034,
            1214007197,
            2119904241,
            1214007197,
            2226006253,
            2119904241,
            2557101167,
            2029042347,
            2557101167,
            2251612900,
            2029042347,
            2251612900,
            2251612900,
            2226006253,
            2601143034,
            2079793531,
            1214007197,
            2077455217,
            1512285725,
            2079793531,
            1512285725,
            2077455217,
            2601143034,
            1214007197,
            2119904241,
            1214007197,
            2226006253,
            2119904241,
            2557101167,
            2029042347,
            2557101167,
            2251612900,
            2029042347,
            2251612900,
            2251612900,
            2226006253,
            2601143034,
            2079793531,
            1214007197,
            2077455217,
            1512285725,
            2079793531,
            1512285725,
            2077455217,
            2601143034,
            1214007197,
            2119904241,
            1214007197,
            2226006253,
            2119904241,
            2557101167,
            2029042347,
            2557101167,
            2251612900,
            2029042347,
            2251612900,
            2251612900,
            2226006253,
            2601143034,
            2079793531,
            1214007197,
            2077455217,
            1512285725,
            2079793531,
            1512285725,
            2077455217,
            2601143034,
            1214007197,
            2119904241,
            1214007197,
            2226006253,
            2119904241,
            2557101167,
            2029042347,
            2557101167,
            2251612900,
            2029042347,
            2251612900,
            2251612900,
            2226006253,
            2601143034,
            2079793531,
            1214007197,
            2077455217,
            1512285725,
            2079793531,
            1512285725,
            2077455217,
            2601143034,
            1214007197,
            2119904241,
            1214007197,
            2226006253,
            2119904241,
            2557101167,
            2029042347,
            2557101167,
            2251612900,
            2029042347,
            2251612900,
            2251612900,
            2226006253,
            2601143034,
            2079793531,
            1214007197,
            2077455217,
            1512285725,
            2079793531,
            1512285725,
            2077455217,
            2601143034,
            1214007197,
            2119904241,
            1214007197,
            2226006253,
            2119904241,
            2557101167,
            2029042347,
            2557101167,
            2251612900,
            2029042347,
            2251612900,
            2251612900,
            2226006253,
            2601143034,
            2079793531,
            1214007197,
            2077455217,
            1512285725,
            2079793531,
            1512285725,
            2077455217,
            2601143034,
            1214007197,
            2119904241,
            1214007197,
            2226006253,
            2119904241,
            2557101167,
            2029042347,
            2557101167,
            2251612900,
            2029042347,
            2251612900,
            2251612900,
            2226006253,
            2601143034,
            2079793531,
            1214007197,
            2077455217,
            1512285725,
            2079793531,
            1512285725,
            2077455217,
            2601143034,
            1214007197,
            2119904241,
            1214007197,
            2226006253,
            2119904241,
            2557101167,
            2029042347,
            2557101167,
            2251612900,
            2029042347,
            2251612900,
            2251612900,
            2226006253,
            2601143034,
            2079793531,
            1214007197,
            2077455217,
            1512285725,
            2079793531,
            1512285725,
            2077455217,
            2601143034,
            1214007197,
            2119904241,
            1214007197,
            2226006253,
            2119904241,
            2557101167,
            2029042347,
            2557101167,
            2251612900,
            2029042347,
            2251612900,
            2251612900,
            2226006253,
            2601143034,
            2079793531,
            1214007197,
            2077455217,
            1512285725,
            2079793531,
            1512285725,
            2077455217,
            2601143034,
            1214007197,
            2119904241,
            1214007197,
            2226006253,
            2119904241,
            2557101167,
            2029042347,
            2557101167,
            2251612900,
            2029042347,
            2251612900,
            2251612900,
            2226006253,
            2601143034,
            2079793531,
            1214007197,
            2077455217,
            1512285725,
            2079793531,
            1512285725,
            2077455217,
            2601143034,
            1214007197,
            2119904241,
            1214007197,
            2226006253,
            2119904241,
            2557101167,
            2029042347,
            2557101167,
            2251612900,
            2029042347,
            2251612900,
            2251612900,
            2226006253,
            2601143034,
            2079793531,
            1214007197,
            2077455217,
            1512285725,
            2079793531,
            1512285725,
            2077455217,
            2601143034,
            1214007197,
            2119904241,
            1214007197,
            2226006253,
            2119904241,
            2557101167,
            2029042347,
            2557101167,
            2251612900,
            2029042347,
            2251612900,
            2251612900,
            2226006253,
            2601143034,
            2079793531,
            1214007197,
            2077455217,
            1512285725,
            2079793531,
            1512285725,
            2077455217,
            2601143034,
            1214007197,
            2119904241,
            1214007197,
            2226006253,
            2119904241,
            2557101167,
            2029042347,
            2557101167,
            2251612900,
            2029042347,
            2251612900,
            2251612900,
            2226006253,
            2601143034,
            2079793531,
            1214007197,
            2077455217,
            1512285725,
            2079793531,
            1512285725,
            2077455217,
            2601143034,
            1214007197,
            2119904241,
            1214007197,
            2226006253,
            2119904241,
            2557101167,
            2029042347,
            2557101167,
            2251612900,
            2029042347,
            2251612900,
            2251612900,
            2226006253,
            2601143034,
            2079793531,
            1214007197,
            2077455217,
            1512285725,
            2079793531,
            1512285725,
            2077455217,
            2601143034,
            1214007197,
            2119904241,
            1214007197,
            2226006253,
            2119904241,
            2557101167
           ]
          },
          {
           "label": "Topic",
           "values": [
            "computer science",
            "computer science",
            "computer science",
            "computer science",
            "computer science",
            "computer science",
            "computer science",
            "computer science",
            "computer science",
            "computer science",
            "computer science",
            "computer science",
            "computer science",
            "computer science",
            "computer science",
            "computer science",
            "computer science",
            "computer science",
            "computer science",
            "computer science",
            "computer science",
            "computer science",
            "microscope",
            "microscope",
            "microscope",
            "microscope",
            "microscope",
            "microscope",
            "microscope",
            "microscope",
            "microscope",
            "microscope",
            "microscope",
            "microscope",
            "microscope",
            "microscope",
            "microscope",
            "microscope",
            "microscope",
            "microscope",
            "microscope",
            "microscope",
            "microscope",
            "microscope",
            "in situ microscopy",
            "in situ microscopy",
            "in situ microscopy",
            "in situ microscopy",
            "in situ microscopy",
            "in situ microscopy",
            "in situ microscopy",
            "in situ microscopy",
            "in situ microscopy",
            "in situ microscopy",
            "in situ microscopy",
            "in situ microscopy",
            "in situ microscopy",
            "in situ microscopy",
            "in situ microscopy",
            "in situ microscopy",
            "in situ microscopy",
            "in situ microscopy",
            "in situ microscopy",
            "in situ microscopy",
            "in situ microscopy",
            "in situ microscopy",
            "repeated sampling",
            "repeated sampling",
            "repeated sampling",
            "repeated sampling",
            "repeated sampling",
            "repeated sampling",
            "repeated sampling",
            "repeated sampling",
            "repeated sampling",
            "repeated sampling",
            "repeated sampling",
            "repeated sampling",
            "repeated sampling",
            "repeated sampling",
            "repeated sampling",
            "repeated sampling",
            "repeated sampling",
            "repeated sampling",
            "repeated sampling",
            "repeated sampling",
            "repeated sampling",
            "repeated sampling",
            "fluidics",
            "fluidics",
            "fluidics",
            "fluidics",
            "fluidics",
            "fluidics",
            "fluidics",
            "fluidics",
            "fluidics",
            "fluidics",
            "fluidics",
            "fluidics",
            "fluidics",
            "fluidics",
            "fluidics",
            "fluidics",
            "fluidics",
            "fluidics",
            "fluidics",
            "fluidics",
            "fluidics",
            "fluidics",
            "biomedical engineering",
            "biomedical engineering",
            "biomedical engineering",
            "biomedical engineering",
            "biomedical engineering",
            "biomedical engineering",
            "biomedical engineering",
            "biomedical engineering",
            "biomedical engineering",
            "biomedical engineering",
            "biomedical engineering",
            "biomedical engineering",
            "biomedical engineering",
            "biomedical engineering",
            "biomedical engineering",
            "biomedical engineering",
            "biomedical engineering",
            "biomedical engineering",
            "biomedical engineering",
            "biomedical engineering",
            "biomedical engineering",
            "biomedical engineering",
            "computer science",
            "computer science",
            "computer science",
            "computer science",
            "computer science",
            "computer science",
            "computer science",
            "computer science",
            "computer science",
            "computer science",
            "computer science",
            "computer science",
            "computer science",
            "computer science",
            "computer science",
            "computer science",
            "computer science",
            "computer science",
            "computer science",
            "computer science",
            "computer science",
            "computer science",
            "microscope",
            "microscope",
            "microscope",
            "microscope",
            "microscope",
            "microscope",
            "microscope",
            "microscope",
            "microscope",
            "microscope",
            "microscope",
            "microscope",
            "microscope",
            "microscope",
            "microscope",
            "microscope",
            "microscope",
            "microscope",
            "microscope",
            "microscope",
            "microscope",
            "microscope",
            "in situ microscopy",
            "in situ microscopy",
            "in situ microscopy",
            "in situ microscopy",
            "in situ microscopy",
            "in situ microscopy",
            "in situ microscopy",
            "in situ microscopy",
            "in situ microscopy",
            "in situ microscopy",
            "in situ microscopy",
            "in situ microscopy",
            "in situ microscopy",
            "in situ microscopy",
            "in situ microscopy",
            "in situ microscopy",
            "in situ microscopy",
            "in situ microscopy",
            "in situ microscopy",
            "in situ microscopy",
            "in situ microscopy",
            "in situ microscopy",
            "repeated sampling",
            "repeated sampling",
            "repeated sampling",
            "repeated sampling",
            "repeated sampling",
            "repeated sampling",
            "repeated sampling",
            "repeated sampling",
            "repeated sampling",
            "repeated sampling",
            "repeated sampling",
            "repeated sampling",
            "repeated sampling",
            "repeated sampling",
            "repeated sampling",
            "repeated sampling",
            "repeated sampling",
            "repeated sampling",
            "repeated sampling",
            "repeated sampling",
            "repeated sampling",
            "repeated sampling",
            "fluidics",
            "fluidics",
            "fluidics",
            "fluidics",
            "fluidics",
            "fluidics",
            "fluidics",
            "fluidics",
            "fluidics",
            "fluidics",
            "fluidics",
            "fluidics",
            "fluidics",
            "fluidics",
            "fluidics",
            "fluidics",
            "fluidics",
            "fluidics",
            "fluidics",
            "fluidics",
            "fluidics",
            "fluidics",
            "biomedical engineering",
            "biomedical engineering",
            "biomedical engineering",
            "biomedical engineering",
            "biomedical engineering",
            "biomedical engineering",
            "biomedical engineering",
            "biomedical engineering",
            "biomedical engineering",
            "biomedical engineering",
            "biomedical engineering",
            "biomedical engineering",
            "biomedical engineering",
            "biomedical engineering",
            "biomedical engineering",
            "biomedical engineering",
            "biomedical engineering",
            "biomedical engineering",
            "biomedical engineering",
            "biomedical engineering",
            "biomedical engineering",
            "biomedical engineering",
            "computer science",
            "computer science",
            "computer science",
            "computer science",
            "computer science",
            "computer science",
            "computer science",
            "computer science",
            "computer science",
            "computer science",
            "computer science",
            "computer science",
            "computer science",
            "computer science",
            "computer science",
            "computer science",
            "computer science",
            "computer science",
            "computer science",
            "computer science",
            "computer science",
            "computer science",
            "microscope",
            "microscope",
            "microscope",
            "microscope",
            "microscope",
            "microscope",
            "microscope",
            "microscope",
            "microscope",
            "microscope",
            "microscope",
            "microscope",
            "microscope",
            "microscope",
            "microscope",
            "microscope",
            "microscope",
            "microscope",
            "microscope",
            "microscope",
            "microscope",
            "microscope",
            "in situ microscopy",
            "in situ microscopy",
            "in situ microscopy",
            "in situ microscopy",
            "in situ microscopy",
            "in situ microscopy",
            "in situ microscopy",
            "in situ microscopy",
            "in situ microscopy",
            "in situ microscopy",
            "in situ microscopy",
            "in situ microscopy",
            "in situ microscopy",
            "in situ microscopy",
            "in situ microscopy",
            "in situ microscopy",
            "in situ microscopy",
            "in situ microscopy",
            "in situ microscopy",
            "in situ microscopy",
            "in situ microscopy",
            "in situ microscopy",
            "repeated sampling",
            "repeated sampling",
            "repeated sampling",
            "repeated sampling",
            "repeated sampling",
            "repeated sampling",
            "repeated sampling",
            "repeated sampling",
            "repeated sampling",
            "repeated sampling",
            "repeated sampling",
            "repeated sampling",
            "repeated sampling",
            "repeated sampling",
            "repeated sampling",
            "repeated sampling",
            "repeated sampling",
            "repeated sampling",
            "repeated sampling",
            "repeated sampling",
            "repeated sampling",
            "repeated sampling",
            "fluidics",
            "fluidics",
            "fluidics",
            "fluidics",
            "fluidics",
            "fluidics",
            "fluidics",
            "fluidics",
            "fluidics",
            "fluidics",
            "fluidics",
            "fluidics",
            "fluidics",
            "fluidics",
            "fluidics",
            "fluidics",
            "fluidics",
            "fluidics",
            "fluidics",
            "fluidics",
            "fluidics",
            "fluidics",
            "biomedical engineering",
            "biomedical engineering",
            "biomedical engineering",
            "biomedical engineering",
            "biomedical engineering",
            "biomedical engineering",
            "biomedical engineering",
            "biomedical engineering",
            "biomedical engineering",
            "biomedical engineering",
            "biomedical engineering",
            "biomedical engineering",
            "biomedical engineering",
            "biomedical engineering",
            "biomedical engineering",
            "biomedical engineering",
            "biomedical engineering",
            "biomedical engineering",
            "biomedical engineering",
            "biomedical engineering",
            "biomedical engineering",
            "biomedical engineering"
           ]
          }
         ],
         "domain": {
          "x": [
           0,
           1
          ],
          "y": [
           0,
           1
          ]
         },
         "name": "",
         "type": "parcats"
        }
       ],
       "layout": {
        "legend": {
         "tracegroupgap": 0
        },
        "margin": {
         "t": 60
        },
        "template": {
         "data": {
          "bar": [
           {
            "error_x": {
             "color": "#2a3f5f"
            },
            "error_y": {
             "color": "#2a3f5f"
            },
            "marker": {
             "line": {
              "color": "#E5ECF6",
              "width": 0.5
             },
             "pattern": {
              "fillmode": "overlay",
              "size": 10,
              "solidity": 0.2
             }
            },
            "type": "bar"
           }
          ],
          "barpolar": [
           {
            "marker": {
             "line": {
              "color": "#E5ECF6",
              "width": 0.5
             },
             "pattern": {
              "fillmode": "overlay",
              "size": 10,
              "solidity": 0.2
             }
            },
            "type": "barpolar"
           }
          ],
          "carpet": [
           {
            "aaxis": {
             "endlinecolor": "#2a3f5f",
             "gridcolor": "white",
             "linecolor": "white",
             "minorgridcolor": "white",
             "startlinecolor": "#2a3f5f"
            },
            "baxis": {
             "endlinecolor": "#2a3f5f",
             "gridcolor": "white",
             "linecolor": "white",
             "minorgridcolor": "white",
             "startlinecolor": "#2a3f5f"
            },
            "type": "carpet"
           }
          ],
          "choropleth": [
           {
            "colorbar": {
             "outlinewidth": 0,
             "ticks": ""
            },
            "type": "choropleth"
           }
          ],
          "contour": [
           {
            "colorbar": {
             "outlinewidth": 0,
             "ticks": ""
            },
            "colorscale": [
             [
              0,
              "#0d0887"
             ],
             [
              0.1111111111111111,
              "#46039f"
             ],
             [
              0.2222222222222222,
              "#7201a8"
             ],
             [
              0.3333333333333333,
              "#9c179e"
             ],
             [
              0.4444444444444444,
              "#bd3786"
             ],
             [
              0.5555555555555556,
              "#d8576b"
             ],
             [
              0.6666666666666666,
              "#ed7953"
             ],
             [
              0.7777777777777778,
              "#fb9f3a"
             ],
             [
              0.8888888888888888,
              "#fdca26"
             ],
             [
              1,
              "#f0f921"
             ]
            ],
            "type": "contour"
           }
          ],
          "contourcarpet": [
           {
            "colorbar": {
             "outlinewidth": 0,
             "ticks": ""
            },
            "type": "contourcarpet"
           }
          ],
          "heatmap": [
           {
            "colorbar": {
             "outlinewidth": 0,
             "ticks": ""
            },
            "colorscale": [
             [
              0,
              "#0d0887"
             ],
             [
              0.1111111111111111,
              "#46039f"
             ],
             [
              0.2222222222222222,
              "#7201a8"
             ],
             [
              0.3333333333333333,
              "#9c179e"
             ],
             [
              0.4444444444444444,
              "#bd3786"
             ],
             [
              0.5555555555555556,
              "#d8576b"
             ],
             [
              0.6666666666666666,
              "#ed7953"
             ],
             [
              0.7777777777777778,
              "#fb9f3a"
             ],
             [
              0.8888888888888888,
              "#fdca26"
             ],
             [
              1,
              "#f0f921"
             ]
            ],
            "type": "heatmap"
           }
          ],
          "heatmapgl": [
           {
            "colorbar": {
             "outlinewidth": 0,
             "ticks": ""
            },
            "colorscale": [
             [
              0,
              "#0d0887"
             ],
             [
              0.1111111111111111,
              "#46039f"
             ],
             [
              0.2222222222222222,
              "#7201a8"
             ],
             [
              0.3333333333333333,
              "#9c179e"
             ],
             [
              0.4444444444444444,
              "#bd3786"
             ],
             [
              0.5555555555555556,
              "#d8576b"
             ],
             [
              0.6666666666666666,
              "#ed7953"
             ],
             [
              0.7777777777777778,
              "#fb9f3a"
             ],
             [
              0.8888888888888888,
              "#fdca26"
             ],
             [
              1,
              "#f0f921"
             ]
            ],
            "type": "heatmapgl"
           }
          ],
          "histogram": [
           {
            "marker": {
             "pattern": {
              "fillmode": "overlay",
              "size": 10,
              "solidity": 0.2
             }
            },
            "type": "histogram"
           }
          ],
          "histogram2d": [
           {
            "colorbar": {
             "outlinewidth": 0,
             "ticks": ""
            },
            "colorscale": [
             [
              0,
              "#0d0887"
             ],
             [
              0.1111111111111111,
              "#46039f"
             ],
             [
              0.2222222222222222,
              "#7201a8"
             ],
             [
              0.3333333333333333,
              "#9c179e"
             ],
             [
              0.4444444444444444,
              "#bd3786"
             ],
             [
              0.5555555555555556,
              "#d8576b"
             ],
             [
              0.6666666666666666,
              "#ed7953"
             ],
             [
              0.7777777777777778,
              "#fb9f3a"
             ],
             [
              0.8888888888888888,
              "#fdca26"
             ],
             [
              1,
              "#f0f921"
             ]
            ],
            "type": "histogram2d"
           }
          ],
          "histogram2dcontour": [
           {
            "colorbar": {
             "outlinewidth": 0,
             "ticks": ""
            },
            "colorscale": [
             [
              0,
              "#0d0887"
             ],
             [
              0.1111111111111111,
              "#46039f"
             ],
             [
              0.2222222222222222,
              "#7201a8"
             ],
             [
              0.3333333333333333,
              "#9c179e"
             ],
             [
              0.4444444444444444,
              "#bd3786"
             ],
             [
              0.5555555555555556,
              "#d8576b"
             ],
             [
              0.6666666666666666,
              "#ed7953"
             ],
             [
              0.7777777777777778,
              "#fb9f3a"
             ],
             [
              0.8888888888888888,
              "#fdca26"
             ],
             [
              1,
              "#f0f921"
             ]
            ],
            "type": "histogram2dcontour"
           }
          ],
          "mesh3d": [
           {
            "colorbar": {
             "outlinewidth": 0,
             "ticks": ""
            },
            "type": "mesh3d"
           }
          ],
          "parcoords": [
           {
            "line": {
             "colorbar": {
              "outlinewidth": 0,
              "ticks": ""
             }
            },
            "type": "parcoords"
           }
          ],
          "pie": [
           {
            "automargin": true,
            "type": "pie"
           }
          ],
          "scatter": [
           {
            "marker": {
             "colorbar": {
              "outlinewidth": 0,
              "ticks": ""
             }
            },
            "type": "scatter"
           }
          ],
          "scatter3d": [
           {
            "line": {
             "colorbar": {
              "outlinewidth": 0,
              "ticks": ""
             }
            },
            "marker": {
             "colorbar": {
              "outlinewidth": 0,
              "ticks": ""
             }
            },
            "type": "scatter3d"
           }
          ],
          "scattercarpet": [
           {
            "marker": {
             "colorbar": {
              "outlinewidth": 0,
              "ticks": ""
             }
            },
            "type": "scattercarpet"
           }
          ],
          "scattergeo": [
           {
            "marker": {
             "colorbar": {
              "outlinewidth": 0,
              "ticks": ""
             }
            },
            "type": "scattergeo"
           }
          ],
          "scattergl": [
           {
            "marker": {
             "colorbar": {
              "outlinewidth": 0,
              "ticks": ""
             }
            },
            "type": "scattergl"
           }
          ],
          "scattermapbox": [
           {
            "marker": {
             "colorbar": {
              "outlinewidth": 0,
              "ticks": ""
             }
            },
            "type": "scattermapbox"
           }
          ],
          "scatterpolar": [
           {
            "marker": {
             "colorbar": {
              "outlinewidth": 0,
              "ticks": ""
             }
            },
            "type": "scatterpolar"
           }
          ],
          "scatterpolargl": [
           {
            "marker": {
             "colorbar": {
              "outlinewidth": 0,
              "ticks": ""
             }
            },
            "type": "scatterpolargl"
           }
          ],
          "scatterternary": [
           {
            "marker": {
             "colorbar": {
              "outlinewidth": 0,
              "ticks": ""
             }
            },
            "type": "scatterternary"
           }
          ],
          "surface": [
           {
            "colorbar": {
             "outlinewidth": 0,
             "ticks": ""
            },
            "colorscale": [
             [
              0,
              "#0d0887"
             ],
             [
              0.1111111111111111,
              "#46039f"
             ],
             [
              0.2222222222222222,
              "#7201a8"
             ],
             [
              0.3333333333333333,
              "#9c179e"
             ],
             [
              0.4444444444444444,
              "#bd3786"
             ],
             [
              0.5555555555555556,
              "#d8576b"
             ],
             [
              0.6666666666666666,
              "#ed7953"
             ],
             [
              0.7777777777777778,
              "#fb9f3a"
             ],
             [
              0.8888888888888888,
              "#fdca26"
             ],
             [
              1,
              "#f0f921"
             ]
            ],
            "type": "surface"
           }
          ],
          "table": [
           {
            "cells": {
             "fill": {
              "color": "#EBF0F8"
             },
             "line": {
              "color": "white"
             }
            },
            "header": {
             "fill": {
              "color": "#C8D4E3"
             },
             "line": {
              "color": "white"
             }
            },
            "type": "table"
           }
          ]
         },
         "layout": {
          "annotationdefaults": {
           "arrowcolor": "#2a3f5f",
           "arrowhead": 0,
           "arrowwidth": 1
          },
          "autotypenumbers": "strict",
          "coloraxis": {
           "colorbar": {
            "outlinewidth": 0,
            "ticks": ""
           }
          },
          "colorscale": {
           "diverging": [
            [
             0,
             "#8e0152"
            ],
            [
             0.1,
             "#c51b7d"
            ],
            [
             0.2,
             "#de77ae"
            ],
            [
             0.3,
             "#f1b6da"
            ],
            [
             0.4,
             "#fde0ef"
            ],
            [
             0.5,
             "#f7f7f7"
            ],
            [
             0.6,
             "#e6f5d0"
            ],
            [
             0.7,
             "#b8e186"
            ],
            [
             0.8,
             "#7fbc41"
            ],
            [
             0.9,
             "#4d9221"
            ],
            [
             1,
             "#276419"
            ]
           ],
           "sequential": [
            [
             0,
             "#0d0887"
            ],
            [
             0.1111111111111111,
             "#46039f"
            ],
            [
             0.2222222222222222,
             "#7201a8"
            ],
            [
             0.3333333333333333,
             "#9c179e"
            ],
            [
             0.4444444444444444,
             "#bd3786"
            ],
            [
             0.5555555555555556,
             "#d8576b"
            ],
            [
             0.6666666666666666,
             "#ed7953"
            ],
            [
             0.7777777777777778,
             "#fb9f3a"
            ],
            [
             0.8888888888888888,
             "#fdca26"
            ],
            [
             1,
             "#f0f921"
            ]
           ],
           "sequentialminus": [
            [
             0,
             "#0d0887"
            ],
            [
             0.1111111111111111,
             "#46039f"
            ],
            [
             0.2222222222222222,
             "#7201a8"
            ],
            [
             0.3333333333333333,
             "#9c179e"
            ],
            [
             0.4444444444444444,
             "#bd3786"
            ],
            [
             0.5555555555555556,
             "#d8576b"
            ],
            [
             0.6666666666666666,
             "#ed7953"
            ],
            [
             0.7777777777777778,
             "#fb9f3a"
            ],
            [
             0.8888888888888888,
             "#fdca26"
            ],
            [
             1,
             "#f0f921"
            ]
           ]
          },
          "colorway": [
           "#636efa",
           "#EF553B",
           "#00cc96",
           "#ab63fa",
           "#FFA15A",
           "#19d3f3",
           "#FF6692",
           "#B6E880",
           "#FF97FF",
           "#FECB52"
          ],
          "font": {
           "color": "#2a3f5f"
          },
          "geo": {
           "bgcolor": "white",
           "lakecolor": "white",
           "landcolor": "#E5ECF6",
           "showlakes": true,
           "showland": true,
           "subunitcolor": "white"
          },
          "hoverlabel": {
           "align": "left"
          },
          "hovermode": "closest",
          "mapbox": {
           "style": "light"
          },
          "paper_bgcolor": "white",
          "plot_bgcolor": "#E5ECF6",
          "polar": {
           "angularaxis": {
            "gridcolor": "white",
            "linecolor": "white",
            "ticks": ""
           },
           "bgcolor": "#E5ECF6",
           "radialaxis": {
            "gridcolor": "white",
            "linecolor": "white",
            "ticks": ""
           }
          },
          "scene": {
           "xaxis": {
            "backgroundcolor": "#E5ECF6",
            "gridcolor": "white",
            "gridwidth": 2,
            "linecolor": "white",
            "showbackground": true,
            "ticks": "",
            "zerolinecolor": "white"
           },
           "yaxis": {
            "backgroundcolor": "#E5ECF6",
            "gridcolor": "white",
            "gridwidth": 2,
            "linecolor": "white",
            "showbackground": true,
            "ticks": "",
            "zerolinecolor": "white"
           },
           "zaxis": {
            "backgroundcolor": "#E5ECF6",
            "gridcolor": "white",
            "gridwidth": 2,
            "linecolor": "white",
            "showbackground": true,
            "ticks": "",
            "zerolinecolor": "white"
           }
          },
          "shapedefaults": {
           "line": {
            "color": "#2a3f5f"
           }
          },
          "ternary": {
           "aaxis": {
            "gridcolor": "white",
            "linecolor": "white",
            "ticks": ""
           },
           "baxis": {
            "gridcolor": "white",
            "linecolor": "white",
            "ticks": ""
           },
           "bgcolor": "#E5ECF6",
           "caxis": {
            "gridcolor": "white",
            "linecolor": "white",
            "ticks": ""
           }
          },
          "title": {
           "x": 0.05
          },
          "xaxis": {
           "automargin": true,
           "gridcolor": "white",
           "linecolor": "white",
           "ticks": "",
           "title": {
            "standoff": 15
           },
           "zerolinecolor": "white",
           "zerolinewidth": 2
          },
          "yaxis": {
           "automargin": true,
           "gridcolor": "white",
           "linecolor": "white",
           "ticks": "",
           "title": {
            "standoff": 15
           },
           "zerolinecolor": "white",
           "zerolinewidth": 2
          }
         }
        }
       }
      }
     },
     "metadata": {},
     "output_type": "display_data"
    }
   ],
   "source": [
    "dt = coauthors_data.filter(\"author_id = 1214007197\").groupBy(\"coauthors_ids\").agg(F.count(\"coauthors_ids\").alias(\"count\")).sort(\"count\", ascending = False).limit(10).select(\"coauthors_ids\")\n",
    "dt2 = dt.join(coauthors_data.filter(\"author_id = 1214007197\").select(\"coauthors_ids\", \"author_id\", \"topic\"),on=\"coauthors_ids\",how=\"inner\")\n",
    "\n",
    "df = dt2.toPandas()#coauthors_data.filter(\"author_id = 1214007197\").toPandas()\n",
    "fig = px.parallel_categories(df, dimensions=['author_id', 'coauthors_ids', 'topic'],\n",
    "                color_continuous_scale=px.colors.sequential.Inferno,\n",
    "                labels={'author_id':'Author', 'coauthors_id':'Co-Author', 'topic':'Topic'})\n",
    "fig.show()"
   ]
  },
  {
   "cell_type": "markdown",
   "metadata": {
    "id": "JoL2Vqk337ML"
   },
   "source": [
    "## Filters"
   ]
  },
  {
   "cell_type": "code",
   "execution_count": 13,
   "metadata": {
    "id": "z60YtE1N3wDJ"
   },
   "outputs": [],
   "source": [
    "# filters input\n",
    "# country_names = authors_data.select(\"country\").distinct().toPandas()['country'].dropna().sort_values().tolist()\n",
    "author_names_lower = authors_data.select(\"author_id\",\"name\").distinct().toPandas()['name'].sort_values().tolist()\n",
    "author_names = [name.title() for name in author_names_lower]\n",
    "# author_names"
   ]
  },
  {
   "cell_type": "markdown",
   "metadata": {
    "id": "s_rqeoDI4F9k"
   },
   "source": [
    "## MAIN DASHBOARD"
   ]
  },
  {
   "cell_type": "code",
   "execution_count": 53,
   "metadata": {
    "colab": {
     "base_uri": "https://localhost:8080/",
     "height": 362
    },
    "id": "XQc1f_Nm31ql",
    "outputId": "8f633ced-b57e-49a2-9b6f-fe170d494af4"
   },
   "outputs": [
    {
     "name": "stdout",
     "output_type": "stream",
     "text": [
      "Dash app running on http://127.0.0.1:8082/\n"
     ]
    }
   ],
   "source": [
    "app = JupyterDash(external_stylesheets=[dbc.themes.DARKLY])\n",
    "\n",
    "app.layout = html.Div([ \n",
    "          dbc.Container([\n",
    "             dbc.Row([\n",
    "                  dbc.Col(\n",
    "                          html.H1(children = \"Author Statistics\",\n",
    "                                  style = {'color':'#fcc200', 'align':'center'},\n",
    "                                  className=\"text-center mt-4 mb-5\"), \n",
    "                      align=\"center\", className=\"mt4\")       \n",
    "             ]),\n",
    "             dbc.Row([\n",
    "                   dbc.Col(\n",
    "                      html.Div(children = [\n",
    "                          html.H5(\"Author\", style = {'width': '50vw','display': 'inline-block'}),\n",
    "                          dcc.Dropdown(id = \"author-select\",\n",
    "                                    options = [{'label': i, 'value': i} for i in author_names],\n",
    "                                    value = \"Alexander Wong\",\n",
    "                                    style = {'width': '50vw','display': 'inline-block', 'color':'black', \"size\":14}\n",
    "                                    )],  className=\"text-center mt-4 mb-5\"),\n",
    "                      align=\"center\",\n",
    "                      width = 12)], \n",
    "                   justify = \"center\"),\n",
    "             dbc.Row([\n",
    "                      dbc.Col([\n",
    "                       dbc.Card(\n",
    "                           dbc.CardBody(\n",
    "                               [html.H6(children='Total Papers Published',\n",
    "                                       style={\n",
    "                                            'textAlign': 'center',\n",
    "                                            'color': 'white'}\n",
    "                                        ),\n",
    "                              html.H4(\n",
    "                                  id = \"papers-metric\",\n",
    "                                  style={\n",
    "                                          'textAlign': 'center',\n",
    "                                          'color': 'blue',\n",
    "                                          'fontSize': 40,\n",
    "                                          'height':\"3vw\"},\n",
    "                                  )]\n",
    "                             )       \n",
    "                       ) \n",
    "                      ]),\n",
    "                      dbc.Col([\n",
    "                       dbc.Card(\n",
    "                           dbc.CardBody(\n",
    "                               [html.H6(children='Last Affiliation',\n",
    "                                       style={\n",
    "                                            'textAlign': 'center',\n",
    "                                            'color': 'white'}\n",
    "                                        ),\n",
    "                              html.H4(\n",
    "                                  id = \"affiliation-metric\",\n",
    "                                  style={\n",
    "                                          'textAlign': 'center',\n",
    "                                          'color': 'orange',\n",
    "                                          'fontSize': 25,\n",
    "                                          'height':\"3vw\"}\n",
    "                                  )]\n",
    "                             )       \n",
    "                       ) \n",
    "                      ]),\n",
    "                      dbc.Col([\n",
    "                       dbc.Card(\n",
    "                           dbc.CardBody(\n",
    "                               [html.H6(children='Citations Received',\n",
    "                                       style={\n",
    "                                            'textAlign': 'center',\n",
    "                                            'color': 'white'}\n",
    "                                        ),\n",
    "                              html.H4(\n",
    "                                  id = \"citations-metric\",\n",
    "                                  style={\n",
    "                                          'textAlign': 'center',\n",
    "                                          'color': 'red',\n",
    "                                          'fontSize': 40,\n",
    "                                          'height':\"3vw\"}\n",
    "                                  )]\n",
    "                             )       \n",
    "                       ) \n",
    "                      ]),\n",
    "                      dbc.Col([\n",
    "                       dbc.Card(\n",
    "                           dbc.CardBody(\n",
    "                               [html.H6(children='H-Index',\n",
    "                                       style={\n",
    "                                            'textAlign': 'center',\n",
    "                                            'color': 'white'}\n",
    "                                        ),\n",
    "                              html.H4(\n",
    "                                  id = \"hindex-metric\",\n",
    "                                  style={\n",
    "                                          'textAlign': 'center',\n",
    "                                          'color': 'yellow',\n",
    "                                          'fontSize': 40,\n",
    "                                          'height':\"3vw\"}\n",
    "                                  )]\n",
    "                             )       \n",
    "                       ) \n",
    "                      ]),\n",
    "                      dbc.Col([\n",
    "                       dbc.Card(\n",
    "                           dbc.CardBody(\n",
    "                               [html.H6(children='Favourite Topic',\n",
    "                                       style={\n",
    "                                            'textAlign': 'center',\n",
    "                                            'color': 'white'}\n",
    "                                        ),\n",
    "                              html.H4(\n",
    "                                  id = \"topics-metric\",\n",
    "                                  style={\n",
    "                                          'textAlign': 'center',\n",
    "                                          'color': 'pink',\n",
    "                                          'fontSize': 25,\n",
    "                                          'height':\"3vw\"}\n",
    "                                  )]\n",
    "                             )       \n",
    "                       ) \n",
    "                      ]),\n",
    "             ]),\n",
    "            #  dbc.Row([\n",
    "            #           dbc.Col(html.Div(id=\"text-info\"), width = 8)\n",
    "            #           ]),\n",
    "             html.Br(),\n",
    "             dbc.Row([\n",
    "                    dbc.Col([\n",
    "                            dcc.Graph(id=\"papers-trend\")], \n",
    "                            align=\"left\", width = 4, \n",
    "#                             style={\"height\": \"50vw\", \"width\": \"40vw\"}\n",
    "                           ),\n",
    "                    dbc.Col([\n",
    "                        dcc.Graph(id=\"avg-bar-chart\")],\n",
    "#                                       style={\"height\": \"50vw\", \"width\": \"40vw\"})], \n",
    "                            align=\"center\")\n",
    "             ]),\n",
    "             html.Br(),\n",
    "             dbc.Row([\n",
    "                 dbc.Col([\n",
    "                      dcc.Graph(id=\"authors-table\")],\n",
    "                      align=\"center\"\n",
    "                         )\n",
    "    \n",
    "          ])\n",
    "    ])\n",
    "])\n",
    "\n",
    "## card 1\n",
    "@app.callback(Output(component_id=\"papers-metric\", component_property=\"children\"),\n",
    "               Input(component_id=\"author-select\", component_property=\"value\")\n",
    "               )\n",
    "\n",
    "def papers_card(author_input):\n",
    "    filtered_stats = filtered_data(author_input)\n",
    "    filtered_stats = authors_stats.filter(col(\"name\") == author_input.lower()).toPandas()\n",
    "    return filtered_stats[\"papers_count\"][0]\n",
    "\n",
    "## card 2\n",
    "@app.callback(Output(component_id=\"affiliation-metric\", component_property=\"children\"),\n",
    "               Input(component_id=\"author-select\", component_property=\"value\")\n",
    "               )\n",
    "\n",
    "def affiliation_card(author_input):\n",
    "    filtered_stats = authors_stats.filter(col(\"name\") == author_input.lower()).toPandas()\n",
    "    return filtered_stats[\"last_affiliation\"][0]\n",
    "\n",
    "## card 3\n",
    "@app.callback(Output(component_id=\"citations-metric\", component_property=\"children\"),\n",
    "               Input(component_id=\"author-select\", component_property=\"value\")\n",
    "               )\n",
    "\n",
    "def citations_card(author_input):\n",
    "    filtered_stats = authors_stats.filter(col(\"name\") == author_input.lower()).toPandas()\n",
    "    return filtered_stats[\"total_citations\"][0]\n",
    "\n",
    "## card 4\n",
    "@app.callback(Output(component_id=\"hindex-metric\", component_property=\"children\"),\n",
    "               Input(component_id=\"author-select\", component_property=\"value\")\n",
    "               )\n",
    "\n",
    "def hindex_card(author_input):\n",
    "    filtered_stats = authors_stats.filter(col(\"name\") == author_input.lower()).toPandas()\n",
    "    return filtered_stats[\"h_index\"][0]\n",
    "\n",
    "## card 5\n",
    "@app.callback(Output(component_id=\"topics-metric\", component_property=\"children\"),\n",
    "               Input(component_id=\"author-select\", component_property=\"value\")\n",
    "               )\n",
    "\n",
    "def topics_card(author_input):\n",
    "    \n",
    "    author_id_selected = filtered_stats[\"author_id\"].unique()\n",
    "    filtered_topics = authors_topics.filter(col(\"author_id\") == author_id_selected.tolist()[0]).distinct().sort(\"count\", ascending=False).toPandas()\n",
    "    return filtered_topics[\"topics\"][1].title()\n",
    "\n",
    "\n",
    "# line chart\n",
    "@app.callback(Output(component_id=\"papers-trend\", component_property=\"figure\"),\n",
    "               Input(component_id=\"author-select\", component_property=\"value\")\n",
    "               )\n",
    "\n",
    "def papers_trend_fig(author_input):\n",
    "    summary = filtered_stats\n",
    "      # summary = authors_stats.filter(col(\"name\")==author_input).toPandas()\n",
    "    df = (data.filter(col(\"id\").isin(summary[\"all_paper_id\"].iloc[0]))\n",
    "                .groupBy(\"year\").count()\n",
    "                .toPandas())\n",
    "    df['year'] = pd.DatetimeIndex(df['year']).year\n",
    "    years = pd.DataFrame({'year':range(df.year.min(), df.year.max())})\n",
    "    df = df.merge(years, how='outer').fillna(0).sort_values(\"year\")\n",
    "    df = df.rename(columns={\"year\": \"Year\", \"count\": \"Number of Papers\"})\n",
    "\n",
    "    fig = px.line(df, x=\"Year\", y=\"Number of Papers\", range_x = [min(df.Year), max(df.Year)])\n",
    "    fig.layout.template = \"plotly_dark\"\n",
    "    title = \"Trend Line for papers published\"\n",
    "    fig.update_layout(plot_bgcolor='rgba(0, 0, 0, 0)',paper_bgcolor='rgba(0, 0, 0, 0)',\n",
    "                     width = 500, height = 500, \n",
    "                     title=title, title_x=0.5,\n",
    "                     margin=dict(l=80, r=50, t=80, b=20))\n",
    "    return fig\n",
    "\n",
    "\n",
    "# bar chart          \n",
    "@app.callback(Output(component_id=\"avg-bar-chart\", component_property=\"figure\"),\n",
    "               Input(component_id=\"author-select\", component_property=\"value\")\n",
    "               )\n",
    "\n",
    "def avg_bar_authors(author_input):\n",
    "    summary = filtered_stats\n",
    "    fig = make_subplots(rows=1, cols=5)\n",
    "    i = 1;flag = True\n",
    "    for label in avg_data.columns: \n",
    "        fig_1 = go.Figure(data=[\n",
    "                  go.Bar(name='Average', x=[label], y=[avg_data[label].iloc[0]],\n",
    "                        marker_color='#ffdf00',showlegend=flag),\n",
    "                  go.Bar(name='Selected Author', x=[label], y=[summary[label].iloc[0]],\n",
    "                        marker_color='blue',showlegend=flag)\n",
    "                  ])\n",
    "        fig.add_trace(fig_1[\"data\"][0],row=1,col=i)\n",
    "        fig.add_trace(fig_1[\"data\"][1],row=1,col=i)  \n",
    "        i=i+1\n",
    "        flag = False\n",
    "\n",
    "#     fig.update_layout(height=600, width=1000)\n",
    "    fig.layout.template = \"plotly_dark\"\n",
    "    title = f\"Author's Stats Compared to Average\"\n",
    "    fig.update_layout(plot_bgcolor='rgba(0, 0, 0, 0)',paper_bgcolor='rgba(0, 0, 0, 0)', \n",
    "                      width = 800, height = 500, \n",
    "                      title=title, title_x=0.5,\n",
    "                      margin=dict(l=80, r=10, t=80, b=20))\n",
    "    return fig\n",
    "\n",
    "\n",
    "# table\n",
    "@app.callback(Output(component_id=\"authors-table\", component_property=\"figure\"),\n",
    "               Input(component_id=\"author-select\", component_property=\"value\")\n",
    "               )\n",
    "\n",
    "def table_author_papers(author_input):\n",
    "    summary = filtered_stats\n",
    "  # summary = authors_stats.filter(col(\"author_id\")==author_id).toPandas()\n",
    "    df = data.filter(col(\"id\").isin(summary[\"all_paper_id\"].iloc[0]))\\\n",
    "           .select(\"papertitle\",\"citationcount\",\"topics\",\"year\",\"doi\",\"urls\")\\\n",
    "           .toPandas()\n",
    "    fig = go.Figure(data=[go.Table(\n",
    "        columnorder = [1,2,3,4,5,6],\n",
    "        columnwidth = [150,80,150,80,80,150],\n",
    "      header=dict(values=[\"Title\",\"Citation Count\",\"Topics\",\"Year\",\"Doi\",\"Url\"],\n",
    "                  fill_color='black',\n",
    "                  align='left',\n",
    "                  font=dict(color=\"white\", size = 14)),\n",
    "      cells=dict(values=[df.papertitle,df.citationcount,df.topics.apply(lambda x: ', '.join(map(str, x))),df.year,df.doi,df.urls],\n",
    "                fill_color='#fafad2', font=dict(color='black', size=14),\n",
    "                align='left'))\n",
    "    ])\n",
    "    fig.layout.template = \"plotly_dark\"\n",
    "    title = f\"Top papers by {author_input}\"\n",
    "    fig.update_layout(plot_bgcolor='rgba(0, 0, 0, 0)',paper_bgcolor='rgba(0, 0, 0, 0)', title=title, title_x=0.5,\n",
    "                      margin=dict(l=20, r=20, t=80, b=20),\n",
    "                      height = 500)\n",
    "    return fig\n",
    "\n",
    "app.run_server(mode=\"external\",port=\"8082\")"
   ]
  },
  {
   "cell_type": "code",
   "execution_count": null,
   "metadata": {},
   "outputs": [],
   "source": []
  }
 ],
 "metadata": {
  "colab": {
   "collapsed_sections": [],
   "name": "page-AUTHORS.ipynb",
   "provenance": [],
   "toc_visible": true
  },
  "kernelspec": {
   "display_name": "Python 3",
   "language": "python",
   "name": "python3"
  },
  "language_info": {
   "codemirror_mode": {
    "name": "ipython",
    "version": 3
   },
   "file_extension": ".py",
   "mimetype": "text/x-python",
   "name": "python",
   "nbconvert_exporter": "python",
   "pygments_lexer": "ipython3",
   "version": "3.8.10"
  }
 },
 "nbformat": 4,
 "nbformat_minor": 1
}
