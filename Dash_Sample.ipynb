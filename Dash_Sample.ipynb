{
  "nbformat": 4,
  "nbformat_minor": 0,
  "metadata": {
    "colab": {
      "name": "Dash-Sample.ipynb",
      "provenance": [],
      "collapsed_sections": []
    },
    "kernelspec": {
      "name": "python3",
      "display_name": "Python 3"
    },
    "language_info": {
      "name": "python"
    }
  },
  "cells": [
    {
      "cell_type": "markdown",
      "metadata": {
        "id": "WH4sL4DjShXW"
      },
      "source": [
        "## Installing and Importing libraries"
      ]
    },
    {
      "cell_type": "code",
      "metadata": {
        "id": "klmPF_ujSVPF"
      },
      "source": [
        "!pip install dash\n",
        "!pip install jupyter-dash\n",
        "!pip install dash_bootstrap_components"
      ],
      "execution_count": null,
      "outputs": []
    },
    {
      "cell_type": "code",
      "metadata": {
        "id": "vEKA3hMtSqIU"
      },
      "source": [
        "import plotly.graph_objects as go\n",
        "import plotly.express as px\n",
        "from jupyter_dash import JupyterDash\n",
        "from dash import dcc\n",
        "import dash_bootstrap_components as dbc\n",
        "from dash import html\n",
        "from dash.dependencies import Input, Output \n",
        "import pandas as pd\n",
        "import numpy as np"
      ],
      "execution_count": 17,
      "outputs": []
    },
    {
      "cell_type": "markdown",
      "metadata": {
        "id": "-UZsQg9R3DDU"
      },
      "source": [
        "# Data set"
      ]
    },
    {
      "cell_type": "code",
      "metadata": {
        "colab": {
          "resources": {
            "http://localhost:8080/nbextensions/google.colab/files.js": {
              "data": "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",
              "ok": true,
              "headers": [
                [
                  "content-type",
                  "application/javascript"
                ]
              ],
              "status": 200,
              "status_text": ""
            }
          },
          "base_uri": "https://localhost:8080/",
          "height": 73
        },
        "id": "58lmLfq6TANS",
        "outputId": "6c92e470-99b4-4379-f626-6ed2e2da2af2"
      },
      "source": [
        "from google.colab import files\n",
        "uploaded = files.upload()"
      ],
      "execution_count": 3,
      "outputs": [
        {
          "output_type": "display_data",
          "data": {
            "text/html": [
              "\n",
              "     <input type=\"file\" id=\"files-2765d3e4-7617-42df-bf01-6d8abebb1866\" name=\"files[]\" multiple disabled\n",
              "        style=\"border:none\" />\n",
              "     <output id=\"result-2765d3e4-7617-42df-bf01-6d8abebb1866\">\n",
              "      Upload widget is only available when the cell has been executed in the\n",
              "      current browser session. Please rerun this cell to enable.\n",
              "      </output>\n",
              "      <script src=\"/nbextensions/google.colab/files.js\"></script> "
            ],
            "text/plain": [
              "<IPython.core.display.HTML object>"
            ]
          },
          "metadata": {}
        },
        {
          "output_type": "stream",
          "name": "stdout",
          "text": [
            "Saving sample_sales_data.csv to sample_sales_data.csv\n"
          ]
        }
      ]
    },
    {
      "cell_type": "code",
      "metadata": {
        "colab": {
          "base_uri": "https://localhost:8080/",
          "height": 455
        },
        "id": "pBf4SdjwThAq",
        "outputId": "f000c7f6-6ece-4ae3-9c69-1d5793e9008e"
      },
      "source": [
        "df = pd.read_csv(\"sample_sales_data.csv\")\n",
        "df.head()"
      ],
      "execution_count": 4,
      "outputs": [
        {
          "output_type": "execute_result",
          "data": {
            "text/html": [
              "<div>\n",
              "<style scoped>\n",
              "    .dataframe tbody tr th:only-of-type {\n",
              "        vertical-align: middle;\n",
              "    }\n",
              "\n",
              "    .dataframe tbody tr th {\n",
              "        vertical-align: top;\n",
              "    }\n",
              "\n",
              "    .dataframe thead th {\n",
              "        text-align: right;\n",
              "    }\n",
              "</style>\n",
              "<table border=\"1\" class=\"dataframe\">\n",
              "  <thead>\n",
              "    <tr style=\"text-align: right;\">\n",
              "      <th></th>\n",
              "      <th>Row ID</th>\n",
              "      <th>Order ID</th>\n",
              "      <th>Order Date</th>\n",
              "      <th>Ship Date</th>\n",
              "      <th>Ship Mode</th>\n",
              "      <th>Customer ID</th>\n",
              "      <th>Customer Name</th>\n",
              "      <th>Segment</th>\n",
              "      <th>Country</th>\n",
              "      <th>City</th>\n",
              "      <th>State</th>\n",
              "      <th>Postal Code</th>\n",
              "      <th>Region</th>\n",
              "      <th>Product ID</th>\n",
              "      <th>Category</th>\n",
              "      <th>Sub-Category</th>\n",
              "      <th>Product Name</th>\n",
              "      <th>Sales</th>\n",
              "    </tr>\n",
              "  </thead>\n",
              "  <tbody>\n",
              "    <tr>\n",
              "      <th>0</th>\n",
              "      <td>1</td>\n",
              "      <td>CA-2017-152156</td>\n",
              "      <td>08/11/2017</td>\n",
              "      <td>11/11/2017</td>\n",
              "      <td>Second Class</td>\n",
              "      <td>CG-12520</td>\n",
              "      <td>Claire Gute</td>\n",
              "      <td>Consumer</td>\n",
              "      <td>United States</td>\n",
              "      <td>Henderson</td>\n",
              "      <td>Kentucky</td>\n",
              "      <td>42420.0</td>\n",
              "      <td>South</td>\n",
              "      <td>FUR-BO-10001798</td>\n",
              "      <td>Furniture</td>\n",
              "      <td>Bookcases</td>\n",
              "      <td>Bush Somerset Collection Bookcase</td>\n",
              "      <td>261.9600</td>\n",
              "    </tr>\n",
              "    <tr>\n",
              "      <th>1</th>\n",
              "      <td>2</td>\n",
              "      <td>CA-2017-152156</td>\n",
              "      <td>08/11/2017</td>\n",
              "      <td>11/11/2017</td>\n",
              "      <td>Second Class</td>\n",
              "      <td>CG-12520</td>\n",
              "      <td>Claire Gute</td>\n",
              "      <td>Consumer</td>\n",
              "      <td>United States</td>\n",
              "      <td>Henderson</td>\n",
              "      <td>Kentucky</td>\n",
              "      <td>42420.0</td>\n",
              "      <td>South</td>\n",
              "      <td>FUR-CH-10000454</td>\n",
              "      <td>Furniture</td>\n",
              "      <td>Chairs</td>\n",
              "      <td>Hon Deluxe Fabric Upholstered Stacking Chairs,...</td>\n",
              "      <td>731.9400</td>\n",
              "    </tr>\n",
              "    <tr>\n",
              "      <th>2</th>\n",
              "      <td>3</td>\n",
              "      <td>CA-2017-138688</td>\n",
              "      <td>12/06/2017</td>\n",
              "      <td>16/06/2017</td>\n",
              "      <td>Second Class</td>\n",
              "      <td>DV-13045</td>\n",
              "      <td>Darrin Van Huff</td>\n",
              "      <td>Corporate</td>\n",
              "      <td>United States</td>\n",
              "      <td>Los Angeles</td>\n",
              "      <td>California</td>\n",
              "      <td>90036.0</td>\n",
              "      <td>West</td>\n",
              "      <td>OFF-LA-10000240</td>\n",
              "      <td>Office Supplies</td>\n",
              "      <td>Labels</td>\n",
              "      <td>Self-Adhesive Address Labels for Typewriters b...</td>\n",
              "      <td>14.6200</td>\n",
              "    </tr>\n",
              "    <tr>\n",
              "      <th>3</th>\n",
              "      <td>4</td>\n",
              "      <td>US-2016-108966</td>\n",
              "      <td>11/10/2016</td>\n",
              "      <td>18/10/2016</td>\n",
              "      <td>Standard Class</td>\n",
              "      <td>SO-20335</td>\n",
              "      <td>Sean O'Donnell</td>\n",
              "      <td>Consumer</td>\n",
              "      <td>United States</td>\n",
              "      <td>Fort Lauderdale</td>\n",
              "      <td>Florida</td>\n",
              "      <td>33311.0</td>\n",
              "      <td>South</td>\n",
              "      <td>FUR-TA-10000577</td>\n",
              "      <td>Furniture</td>\n",
              "      <td>Tables</td>\n",
              "      <td>Bretford CR4500 Series Slim Rectangular Table</td>\n",
              "      <td>957.5775</td>\n",
              "    </tr>\n",
              "    <tr>\n",
              "      <th>4</th>\n",
              "      <td>5</td>\n",
              "      <td>US-2016-108966</td>\n",
              "      <td>11/10/2016</td>\n",
              "      <td>18/10/2016</td>\n",
              "      <td>Standard Class</td>\n",
              "      <td>SO-20335</td>\n",
              "      <td>Sean O'Donnell</td>\n",
              "      <td>Consumer</td>\n",
              "      <td>United States</td>\n",
              "      <td>Fort Lauderdale</td>\n",
              "      <td>Florida</td>\n",
              "      <td>33311.0</td>\n",
              "      <td>South</td>\n",
              "      <td>OFF-ST-10000760</td>\n",
              "      <td>Office Supplies</td>\n",
              "      <td>Storage</td>\n",
              "      <td>Eldon Fold 'N Roll Cart System</td>\n",
              "      <td>22.3680</td>\n",
              "    </tr>\n",
              "  </tbody>\n",
              "</table>\n",
              "</div>"
            ],
            "text/plain": [
              "   Row ID  ...     Sales\n",
              "0       1  ...  261.9600\n",
              "1       2  ...  731.9400\n",
              "2       3  ...   14.6200\n",
              "3       4  ...  957.5775\n",
              "4       5  ...   22.3680\n",
              "\n",
              "[5 rows x 18 columns]"
            ]
          },
          "metadata": {},
          "execution_count": 4
        }
      ]
    },
    {
      "cell_type": "code",
      "metadata": {
        "colab": {
          "base_uri": "https://localhost:8080/"
        },
        "id": "l1mhWRNltgWT",
        "outputId": "e91dc9de-3d45-4f48-8e06-457df4a66347"
      },
      "source": [
        "df.dropna(inplace=True)\n",
        "df.info()"
      ],
      "execution_count": 5,
      "outputs": [
        {
          "output_type": "stream",
          "name": "stdout",
          "text": [
            "<class 'pandas.core.frame.DataFrame'>\n",
            "Int64Index: 9789 entries, 0 to 9799\n",
            "Data columns (total 18 columns):\n",
            " #   Column         Non-Null Count  Dtype  \n",
            "---  ------         --------------  -----  \n",
            " 0   Row ID         9789 non-null   int64  \n",
            " 1   Order ID       9789 non-null   object \n",
            " 2   Order Date     9789 non-null   object \n",
            " 3   Ship Date      9789 non-null   object \n",
            " 4   Ship Mode      9789 non-null   object \n",
            " 5   Customer ID    9789 non-null   object \n",
            " 6   Customer Name  9789 non-null   object \n",
            " 7   Segment        9789 non-null   object \n",
            " 8   Country        9789 non-null   object \n",
            " 9   City           9789 non-null   object \n",
            " 10  State          9789 non-null   object \n",
            " 11  Postal Code    9789 non-null   float64\n",
            " 12  Region         9789 non-null   object \n",
            " 13  Product ID     9789 non-null   object \n",
            " 14  Category       9789 non-null   object \n",
            " 15  Sub-Category   9789 non-null   object \n",
            " 16  Product Name   9789 non-null   object \n",
            " 17  Sales          9789 non-null   float64\n",
            "dtypes: float64(2), int64(1), object(15)\n",
            "memory usage: 1.4+ MB\n"
          ]
        }
      ]
    },
    {
      "cell_type": "markdown",
      "metadata": {
        "id": "HKU9KEaO3Gz4"
      },
      "source": [
        "# Data Manipulation and cleaning"
      ]
    },
    {
      "cell_type": "code",
      "metadata": {
        "id": "JiHANgrXImxb"
      },
      "source": [
        "df['Order_Year'] = pd.DatetimeIndex(df['Order Date']).year\n",
        "df['Order_Month'] = pd.DatetimeIndex(df['Order Date']).month"
      ],
      "execution_count": 6,
      "outputs": []
    },
    {
      "cell_type": "code",
      "metadata": {
        "colab": {
          "base_uri": "https://localhost:8080/",
          "height": 203
        },
        "id": "mZhZsV2jFvLH",
        "outputId": "f8f957d7-40d7-4290-822c-c9e07ee9ae77"
      },
      "source": [
        "df_new = df.groupby(['Region','Order_Year', 'Order_Month']).Sales.sum().reset_index()\n",
        "df_new[\"Year_Month\"] = pd.to_datetime(df_new['Order_Year'].astype(str) + '-' + df_new['Order_Month'].astype(str))\n",
        "df_new.head()"
      ],
      "execution_count": 7,
      "outputs": [
        {
          "output_type": "execute_result",
          "data": {
            "text/html": [
              "<div>\n",
              "<style scoped>\n",
              "    .dataframe tbody tr th:only-of-type {\n",
              "        vertical-align: middle;\n",
              "    }\n",
              "\n",
              "    .dataframe tbody tr th {\n",
              "        vertical-align: top;\n",
              "    }\n",
              "\n",
              "    .dataframe thead th {\n",
              "        text-align: right;\n",
              "    }\n",
              "</style>\n",
              "<table border=\"1\" class=\"dataframe\">\n",
              "  <thead>\n",
              "    <tr style=\"text-align: right;\">\n",
              "      <th></th>\n",
              "      <th>Region</th>\n",
              "      <th>Order_Year</th>\n",
              "      <th>Order_Month</th>\n",
              "      <th>Sales</th>\n",
              "      <th>Year_Month</th>\n",
              "    </tr>\n",
              "  </thead>\n",
              "  <tbody>\n",
              "    <tr>\n",
              "      <th>0</th>\n",
              "      <td>Central</td>\n",
              "      <td>2015</td>\n",
              "      <td>1</td>\n",
              "      <td>10838.995</td>\n",
              "      <td>2015-01-01</td>\n",
              "    </tr>\n",
              "    <tr>\n",
              "      <th>1</th>\n",
              "      <td>Central</td>\n",
              "      <td>2015</td>\n",
              "      <td>2</td>\n",
              "      <td>2648.124</td>\n",
              "      <td>2015-02-01</td>\n",
              "    </tr>\n",
              "    <tr>\n",
              "      <th>2</th>\n",
              "      <td>Central</td>\n",
              "      <td>2015</td>\n",
              "      <td>3</td>\n",
              "      <td>5038.584</td>\n",
              "      <td>2015-03-01</td>\n",
              "    </tr>\n",
              "    <tr>\n",
              "      <th>3</th>\n",
              "      <td>Central</td>\n",
              "      <td>2015</td>\n",
              "      <td>4</td>\n",
              "      <td>2367.214</td>\n",
              "      <td>2015-04-01</td>\n",
              "    </tr>\n",
              "    <tr>\n",
              "      <th>4</th>\n",
              "      <td>Central</td>\n",
              "      <td>2015</td>\n",
              "      <td>5</td>\n",
              "      <td>4588.496</td>\n",
              "      <td>2015-05-01</td>\n",
              "    </tr>\n",
              "  </tbody>\n",
              "</table>\n",
              "</div>"
            ],
            "text/plain": [
              "    Region  Order_Year  Order_Month      Sales Year_Month\n",
              "0  Central        2015            1  10838.995 2015-01-01\n",
              "1  Central        2015            2   2648.124 2015-02-01\n",
              "2  Central        2015            3   5038.584 2015-03-01\n",
              "3  Central        2015            4   2367.214 2015-04-01\n",
              "4  Central        2015            5   4588.496 2015-05-01"
            ]
          },
          "metadata": {},
          "execution_count": 7
        }
      ]
    },
    {
      "cell_type": "markdown",
      "metadata": {
        "id": "jXEWT2uj3KYT"
      },
      "source": [
        "# Dash app - 1"
      ]
    },
    {
      "cell_type": "code",
      "metadata": {
        "colab": {
          "base_uri": "https://localhost:8080/",
          "height": 50
        },
        "id": "byDiY3IAG53I",
        "outputId": "01e5d20e-c217-4c35-ff29-a33c8e56057e"
      },
      "source": [
        "app = JupyterDash(external_stylesheets=[dbc.themes.DARKLY])\n",
        "\n",
        "app.layout = html.Div(\n",
        "    children = [\n",
        "                html.H2(children = \"Sales Data Across regions from 2015 to 2018\",\n",
        "                        style = {'color': 'white'}),\n",
        "                dcc.Dropdown(id = \"region-dropdown\",\n",
        "                             options = [{'label': i, 'value': i} for i in df_new[\"Region\"].unique().tolist()],\n",
        "                             value = \"Central\",\n",
        "                             style = {'width': '20vw','display': 'inline-block','color': 'black', 'padding':'10px'}\n",
        "                             ),\n",
        "                dcc.Graph(id='sales-chart')          \n",
        "    ]   \n",
        ")\n",
        "\n",
        "@app.callback(Output(component_id='sales-chart',\n",
        "                     component_property='figure'),\n",
        "              Input( component_id='region-dropdown',\n",
        "                     component_property='value')\n",
        "              )\n",
        "\n",
        "def update_graph(region_name):\n",
        "  final_df = df_new.groupby([\"Region\", \"Order_Year\", \"Order_Month\"]).Sales.sum().reset_index()\n",
        "  final_df = final_df[final_df[\"Region\"] == region_name]\n",
        "\n",
        "  fig = px.line(final_df, x = \"Order_Month\", y = \"Sales\", color=\"Order_Year\",\n",
        "                title = f\"Sales Trends for {region_name} Region\",\n",
        "                template = \"plotly_dark\")\n",
        "  \n",
        "  return fig\n",
        "\n",
        "app.run_server(mode=\"external\")\n",
        "    \n"
      ],
      "execution_count": 37,
      "outputs": [
        {
          "output_type": "stream",
          "name": "stdout",
          "text": [
            "Dash app running on:\n"
          ]
        },
        {
          "output_type": "display_data",
          "data": {
            "application/javascript": [
              "(async (port, path, text, element) => {\n",
              "    if (!google.colab.kernel.accessAllowed) {\n",
              "      return;\n",
              "    }\n",
              "    element.appendChild(document.createTextNode(''));\n",
              "    const url = await google.colab.kernel.proxyPort(port);\n",
              "    const anchor = document.createElement('a');\n",
              "    anchor.href = new URL(path, url).toString();\n",
              "    anchor.target = '_blank';\n",
              "    anchor.setAttribute('data-href', url + path);\n",
              "    anchor.textContent = text;\n",
              "    element.appendChild(anchor);\n",
              "  })(8050, \"/\", \"http://127.0.0.1:8050/\", window.element)"
            ],
            "text/plain": [
              "<IPython.core.display.Javascript object>"
            ]
          },
          "metadata": {}
        }
      ]
    },
    {
      "cell_type": "markdown",
      "metadata": {
        "id": "0x5Chc07tyGX"
      },
      "source": [
        "# Dash app - 2"
      ]
    },
    {
      "cell_type": "code",
      "metadata": {
        "id": "_FYZvDoI7PpV"
      },
      "source": [
        "new = pd.read_csv(\"https://raw.githubusercontent.com/plotly/datasets/master/2011_us_ag_exports.csv\")\n",
        "df_temp = df.merge(new[['code', 'state']], left_on=\"State\", right_on=\"state\", how=\"left\")"
      ],
      "execution_count": 8,
      "outputs": []
    },
    {
      "cell_type": "code",
      "metadata": {
        "id": "2w6JXHZ2uEyS"
      },
      "source": [
        "df_sales = df_temp.groupby([\"code\", \"State\", \"Order_Year\"]).Sales.sum().reset_index()\n",
        "df_orders = df_temp.groupby([\"code\",\"State\", \"Order_Year\"])[\"Order ID\"].count().reset_index()\n",
        "df_orders.columns = [\"code\",'State', 'Order_Year', 'Orders']"
      ],
      "execution_count": 9,
      "outputs": []
    },
    {
      "cell_type": "code",
      "metadata": {
        "colab": {
          "base_uri": "https://localhost:8080/",
          "height": 203
        },
        "id": "2iwdhULZuGC7",
        "outputId": "a8ce816e-a608-4f16-a52b-50606f9240fd"
      },
      "source": [
        "df_sales.head()"
      ],
      "execution_count": 10,
      "outputs": [
        {
          "output_type": "execute_result",
          "data": {
            "text/html": [
              "<div>\n",
              "<style scoped>\n",
              "    .dataframe tbody tr th:only-of-type {\n",
              "        vertical-align: middle;\n",
              "    }\n",
              "\n",
              "    .dataframe tbody tr th {\n",
              "        vertical-align: top;\n",
              "    }\n",
              "\n",
              "    .dataframe thead th {\n",
              "        text-align: right;\n",
              "    }\n",
              "</style>\n",
              "<table border=\"1\" class=\"dataframe\">\n",
              "  <thead>\n",
              "    <tr style=\"text-align: right;\">\n",
              "      <th></th>\n",
              "      <th>code</th>\n",
              "      <th>State</th>\n",
              "      <th>Order_Year</th>\n",
              "      <th>Sales</th>\n",
              "    </tr>\n",
              "  </thead>\n",
              "  <tbody>\n",
              "    <tr>\n",
              "      <th>0</th>\n",
              "      <td>AL</td>\n",
              "      <td>Alabama</td>\n",
              "      <td>2015</td>\n",
              "      <td>6139.09</td>\n",
              "    </tr>\n",
              "    <tr>\n",
              "      <th>1</th>\n",
              "      <td>AL</td>\n",
              "      <td>Alabama</td>\n",
              "      <td>2016</td>\n",
              "      <td>3891.97</td>\n",
              "    </tr>\n",
              "    <tr>\n",
              "      <th>2</th>\n",
              "      <td>AL</td>\n",
              "      <td>Alabama</td>\n",
              "      <td>2017</td>\n",
              "      <td>7651.33</td>\n",
              "    </tr>\n",
              "    <tr>\n",
              "      <th>3</th>\n",
              "      <td>AL</td>\n",
              "      <td>Alabama</td>\n",
              "      <td>2018</td>\n",
              "      <td>1828.25</td>\n",
              "    </tr>\n",
              "    <tr>\n",
              "      <th>4</th>\n",
              "      <td>AR</td>\n",
              "      <td>Arkansas</td>\n",
              "      <td>2015</td>\n",
              "      <td>6302.69</td>\n",
              "    </tr>\n",
              "  </tbody>\n",
              "</table>\n",
              "</div>"
            ],
            "text/plain": [
              "  code     State  Order_Year    Sales\n",
              "0   AL   Alabama        2015  6139.09\n",
              "1   AL   Alabama        2016  3891.97\n",
              "2   AL   Alabama        2017  7651.33\n",
              "3   AL   Alabama        2018  1828.25\n",
              "4   AR  Arkansas        2015  6302.69"
            ]
          },
          "metadata": {},
          "execution_count": 10
        }
      ]
    },
    {
      "cell_type": "code",
      "metadata": {
        "colab": {
          "base_uri": "https://localhost:8080/",
          "height": 50
        },
        "id": "7lIIEmgkQXRc",
        "outputId": "26bc87b1-d7c4-49b5-8e26-4f38c1afa007"
      },
      "source": [
        "# from urllib.request import urlopen\n",
        "# import json\n",
        "# with urlopen('https://raw.githubusercontent.com/plotly/datasets/master/geojson-counties-fips.json') as response:\n",
        "#     counties = json.load(response)\n",
        "\n",
        "external_stylesheets = ['https://codepen.io/chriddyp/pen/bWLwgP.css']\n",
        "\n",
        "app = JupyterDash()\n",
        "\n",
        "app.layout = html.Div([\n",
        "    html.Div([\n",
        "    html.H2(children = \"State wise visualization\",\n",
        "            style = {'color': 'navy'}),\n",
        "    html.Div(\n",
        "    children = [\n",
        "                html.Label(\"Sales or Orders:\"),\n",
        "                dcc.RadioItems(id = \"radio-input\",\n",
        "                             options = [{'label': i, 'value': i} for i in [\"Sales\", \"Orders\"] ],\n",
        "                             value = 'Sales',\n",
        "                             style = {'width': '50vw','display': 'inline-block'}\n",
        "                             ),           \n",
        "    ], \n",
        "    style={'width': '30%', 'display': 'inline-block'}\n",
        "    ),\n",
        "   html.Div(\n",
        "    children = [\n",
        "                html.Label(\"Year:\"),\n",
        "                dcc.Dropdown(id = \"year-input\",\n",
        "                             options = [{'label': i, 'value': i} for i in df_sales[\"Order_Year\"].unique().tolist() ],\n",
        "                             value = 2018,\n",
        "                             style = {'width': '50vw','display': 'inline-block'}\n",
        "                             ),           \n",
        "    ],\n",
        "    style={'width': '48%', 'display': 'inline-block'}\n",
        "    ),\n",
        "]),\n",
        "    dcc.Graph(id='choropleth'),\n",
        "    dcc.Graph(id='bar-graph')\n",
        "])\n",
        "\n",
        "@app.callback(Output(component_id='choropleth',\n",
        "                     component_property='figure'),\n",
        "              Input( component_id='radio-input',\n",
        "                     component_property='value'),\n",
        "              Input( component_id='year-input',\n",
        "                     component_property='value'),\n",
        "              )\n",
        "\n",
        "def display_choropleth(radio_input, year_input):\n",
        "  if radio_input == 'Sales':\n",
        "    df_plot = df_sales[df_sales[\"Order_Year\"] == year_input]\n",
        "    col_scale = \"Viridis\"\n",
        "  else:\n",
        "    df_plot = df_orders[df_orders[\"Order_Year\"] == year_input]\n",
        "    col_scale = 'reds'\n",
        "  title = f\"{radio_input} across USA for the year {year_input}\"\n",
        "  fig = px.choropleth(df_plot, locations=\"code\", color=f\"{radio_input}\", color_continuous_scale = col_scale, locationmode=\"USA-states\", scope=\"usa\",\n",
        "                      title=title)\n",
        "  # fig = px.choropleth(df_sales, locations=\"code\", color=\"Sales\", locationmode=\"USA-states\", scope=\"usa\")\n",
        "  return fig\n",
        "\n",
        "@app.callback(Output(component_id='bar-graph',\n",
        "                     component_property='figure'),\n",
        "              Input( component_id='radio-input',\n",
        "                     component_property='value'),\n",
        "              Input( component_id='year-input',\n",
        "                     component_property='value'))\n",
        "\n",
        "def update_graph(radio_input, year_input):\n",
        "  if radio_input == 'Sales':\n",
        "    df_plot = df_sales.groupby(\"State\")[\"Sales\"].sum().reset_index()\n",
        "    col_scale = \"blue\"\n",
        "  else:\n",
        "    df_plot = df_orders.groupby(\"State\")[\"Orders\"].sum().reset_index()\n",
        "    col_scale = 'red'\n",
        "  fig = px.bar(df_plot, x = \"State\", y = f\"{radio_input}\",\n",
        "                title = f\"{radio_input} Trends for States for all years\")\n",
        "  return fig\n",
        "\n",
        "app.run_server(mode=\"external\")\n",
        "    \n"
      ],
      "execution_count": 38,
      "outputs": [
        {
          "output_type": "stream",
          "name": "stdout",
          "text": [
            "Dash app running on:\n"
          ]
        },
        {
          "output_type": "display_data",
          "data": {
            "application/javascript": [
              "(async (port, path, text, element) => {\n",
              "    if (!google.colab.kernel.accessAllowed) {\n",
              "      return;\n",
              "    }\n",
              "    element.appendChild(document.createTextNode(''));\n",
              "    const url = await google.colab.kernel.proxyPort(port);\n",
              "    const anchor = document.createElement('a');\n",
              "    anchor.href = new URL(path, url).toString();\n",
              "    anchor.target = '_blank';\n",
              "    anchor.setAttribute('data-href', url + path);\n",
              "    anchor.textContent = text;\n",
              "    element.appendChild(anchor);\n",
              "  })(8050, \"/\", \"http://127.0.0.1:8050/\", window.element)"
            ],
            "text/plain": [
              "<IPython.core.display.Javascript object>"
            ]
          },
          "metadata": {}
        }
      ]
    },
    {
      "cell_type": "markdown",
      "metadata": {
        "id": "jxpb_wfjAkxw"
      },
      "source": [
        "# Dash app - 3 (tabs)"
      ]
    },
    {
      "cell_type": "code",
      "metadata": {
        "colab": {
          "base_uri": "https://localhost:8080/",
          "height": 50
        },
        "id": "ZyFUpeQYAmuX",
        "outputId": "f39b85bb-d0b9-4e86-fe69-30972d92d1e4"
      },
      "source": [
        "def region_dropdown():\n",
        "    return html.Div([dcc.Dropdown(id = \"region-dropdown\",\n",
        "                             options = [{'label': i, 'value': i} for i in df_new[\"Region\"].unique().tolist()],\n",
        "                             value = \"Central\",\n",
        "                             style = {'width': '50vw','display': 'inline-block'}\n",
        "                             ),]\n",
        "                    ,className=\"dropdown\")\n",
        "    \n",
        "def radiobuttons():\n",
        "    return dcc.RadioItems(id = \"radio-input\",\n",
        "                          options = [{'label': i, 'value': i} for i in [\"Sales\", \"Orders\"] ],\n",
        "                          value = 'Sales',\n",
        "                          style = {'width': '50vw','display': 'inline-block'}\n",
        "                          )\n",
        "def year_dropdown():\n",
        "    return  dcc.Dropdown(id = \"year-input\",\n",
        "                             options = [{'label': i, 'value': i} for i in df_sales[\"Order_Year\"].unique().tolist() ],\n",
        "                             value = 2018,\n",
        "                             style = {'width': '50vw','display': 'inline-block'}\n",
        "                             )\n",
        "\n",
        "def sales_chart():\n",
        "    return dcc.Graph(id=\"sales-chart\")\n",
        "\n",
        "def choropleth_chart():\n",
        "    return dcc.Graph(id=\"choropleth\")\n",
        "\n",
        "external_stylesheets = ['https://codepen.io/chriddyp/pen/bWLwgP.css']\n",
        "\n",
        "app = JupyterDash(external_stylesheets=external_stylesheets)\n",
        "\n",
        "app.layout = html.Div([\n",
        "    html.H1('Sales Dashboard'),\n",
        "    dcc.Tabs(id=\"tabs\", value='tab-1', \n",
        "             children=[\n",
        "                    dcc.Tab(label=\"Sales Trends by Region\",\n",
        "                            value=\"tab-1\",\n",
        "                            className=\"custom-tab\",\n",
        "                            children=[html.Div([html.H2(children = \"Sales Data Across regions from 2015 to 2018\",\n",
        "                                                        style = {'color': 'navy'}),\n",
        "                                                region_dropdown(),\n",
        "                                                html.Br(),\n",
        "                                                sales_chart()]),\n",
        "                                      ]\n",
        "                            ),\n",
        "                       dcc.Tab(label=\"Sales/Orders by state and year\",\n",
        "                            value=\"tab-2\",\n",
        "                            className=\"custom-tab\",\n",
        "                            children=[html.Div([html.H2(children = \"State wise visualization\",\n",
        "                                                        style = {'color': 'navy'}),\n",
        "                                              radiobuttons(),    \n",
        "                                              html.Label(\"Year:\"),\n",
        "                                              year_dropdown(),\n",
        "                                            choropleth_chart()\n",
        "                                      ]\n",
        "                            ),\n",
        "                ]),\n",
        "      ])\n",
        "])\n",
        "\n",
        "def display_choropleth(radio_input, year_input):\n",
        "  if radio_input == 'Sales':\n",
        "    df_plot = df_sales[df_sales[\"Order_Year\"] == year_input]\n",
        "    col_scale = \"Viridis\"\n",
        "  else:\n",
        "    df_plot = df_orders[df_orders[\"Order_Year\"] == year_input]\n",
        "    col_scale = 'reds'\n",
        "\n",
        "  # fig = px.bar(df_plot, x = \"State\", y = f\"{radio_input}\",\n",
        "  #               title = f\"{radio_input} Trends for States\")\n",
        "  fig = px.choropleth(df_plot, locations=\"code\", color=f\"{radio_input}\", color_continuous_scale = col_scale, locationmode=\"USA-states\", scope=\"usa\")\n",
        "  # fig = px.choropleth(df_sales, locations=\"code\", color=\"Sales\", locationmode=\"USA-states\", scope=\"usa\")\n",
        "  return fig\n",
        "\n",
        "@app.callback([Output(\"sales-chart\", \"figure\"),\n",
        "               Output(\"choropleth\", \"figure\")\n",
        "               ],\n",
        "             [Input(\"tabs\", \"value\"),\n",
        "              Input(component_id='region-dropdown',\n",
        "                     component_property='value'),\n",
        "              Input( component_id='radio-input',\n",
        "                     component_property='value'),\n",
        "              Input( component_id='year-input',\n",
        "                     component_property='value')])\n",
        "\n",
        "def update_graph(tab, region_name, radio_input, year_input):\n",
        "  if tab == 'tab-1':\n",
        "      final_df = df_new.groupby([\"Region\", \"Order_Year\", \"Order_Month\"]).Sales.sum().reset_index()\n",
        "      final_df = final_df[final_df[\"Region\"] == region_name]\n",
        "\n",
        "      fig = px.line(final_df, x = \"Order_Month\", y = \"Sales\", color=\"Order_Year\",\n",
        "                    title = f\"Sales Trends for {region_name} Region\")\n",
        "      \n",
        "      return fig\n",
        "  else:\n",
        "      display_choropleth(radio_input, year_input)\n",
        "\n",
        "\n",
        "app.run_server(mode=\"external\")"
      ],
      "execution_count": 39,
      "outputs": [
        {
          "output_type": "stream",
          "name": "stdout",
          "text": [
            "Dash app running on:\n"
          ]
        },
        {
          "output_type": "display_data",
          "data": {
            "application/javascript": [
              "(async (port, path, text, element) => {\n",
              "    if (!google.colab.kernel.accessAllowed) {\n",
              "      return;\n",
              "    }\n",
              "    element.appendChild(document.createTextNode(''));\n",
              "    const url = await google.colab.kernel.proxyPort(port);\n",
              "    const anchor = document.createElement('a');\n",
              "    anchor.href = new URL(path, url).toString();\n",
              "    anchor.target = '_blank';\n",
              "    anchor.setAttribute('data-href', url + path);\n",
              "    anchor.textContent = text;\n",
              "    element.appendChild(anchor);\n",
              "  })(8050, \"/\", \"http://127.0.0.1:8050/\", window.element)"
            ],
            "text/plain": [
              "<IPython.core.display.Javascript object>"
            ]
          },
          "metadata": {}
        }
      ]
    },
    {
      "cell_type": "code",
      "metadata": {
        "id": "R1oi7zyx4IlC"
      },
      "source": [
        ""
      ],
      "execution_count": null,
      "outputs": []
    }
  ]
}
