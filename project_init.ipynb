{
 "cells": [
  {
   "cell_type": "code",
   "execution_count": 15,
   "metadata": {},
   "outputs": [],
   "source": [
    "import os\n",
    "os.environ[\"JAVA_HOME\"] = \"/usr/lib/jvm/java-8-openjdk-amd64\"\n",
    "os.environ[\"SPARK_HOME\"] = \"/home/mmkshira/spark-3.2.0-bin-hadoop2.7\"\n",
    "\n",
    "import findspark\n",
    "findspark.init()\n",
    "\n",
    "\n",
    "from pyspark.sql import SparkSession\n",
    "import random\n",
    "\n",
    "spark = SparkSession.builder.appName(\"YourTest\").master(\"local[2]\").config('spark.ui.port', random.randrange(4000,5000)).getOrCreate()"
   ]
  },
  {
   "cell_type": "code",
   "execution_count": 16,
   "metadata": {},
   "outputs": [],
   "source": [
    "from pyspark.sql.functions import explode\n",
    "from pyspark.sql import functions as F\n",
    "from pyspark.sql.functions import concat_ws"
   ]
  },
  {
   "cell_type": "code",
   "execution_count": 17,
   "metadata": {},
   "outputs": [
    {
     "name": "stderr",
     "output_type": "stream",
     "text": [
      "                                                                                \r"
     ]
    }
   ],
   "source": [
    "training_data = spark.read.json(\"test.json\")"
   ]
  },
  {
   "cell_type": "code",
   "execution_count": 18,
   "metadata": {},
   "outputs": [],
   "source": [
    "training_data.createOrReplaceTempView(\"test\")"
   ]
  },
  {
   "cell_type": "code",
   "execution_count": 19,
   "metadata": {},
   "outputs": [
    {
     "name": "stderr",
     "output_type": "stream",
     "text": [
      "                                                                                \r"
     ]
    },
    {
     "data": {
      "text/plain": [
       "['abstract',\n",
       " 'authors',\n",
       " 'citation_for_year',\n",
       " 'citationcount',\n",
       " 'conferenceseriesid',\n",
       " 'confname',\n",
       " 'confplace',\n",
       " 'confseries',\n",
       " 'confseriesname',\n",
       " 'countries',\n",
       " 'cso_annotated',\n",
       " 'cso_enhanced_topics',\n",
       " 'cso_semantic_topics',\n",
       " 'cso_syntactic_topics',\n",
       " 'dbpedia_categories',\n",
       " 'doi',\n",
       " 'grid_type',\n",
       " 'id',\n",
       " 'industrial_sectors',\n",
       " 'journame',\n",
       " 'language',\n",
       " 'papertitle',\n",
       " 'references',\n",
       " 'topics',\n",
       " 'type',\n",
       " 'urls',\n",
       " 'year']"
      ]
     },
     "execution_count": 19,
     "metadata": {},
     "output_type": "execute_result"
    }
   ],
   "source": [
    "testing1 = spark.sql(\"select * from test\")\n",
    "#testing1.show()\n",
    "testing1.count()\n",
    "testing1.columns"
   ]
  },
  {
   "cell_type": "code",
   "execution_count": 20,
   "metadata": {},
   "outputs": [
    {
     "name": "stdout",
     "output_type": "stream",
     "text": [
      "+----------+--------------------+--------------+----------+--------------------+-------------+-----+\n",
      "|  paper_id|                name|       country| author_id|         affiliation|affiliationid|order|\n",
      "+----------+--------------------+--------------+----------+--------------------+-------------+-----+\n",
      "|2009980510|virendra kumar yadav|         India|2345326510|     KIIT University|     67357951|    3|\n",
      "|2009980510|          rahul paul|         India|2602231438|     KIIT University|     67357951|    1|\n",
      "|2009980510| anuja kumar acharya|         India|2160146790|     KIIT University|     67357951|    2|\n",
      "|2009980510|       saumya batham|         India|2680702175|     KIIT University|     67357951|    4|\n",
      "|1995396835|       krishanu seal|United Kingdom|2228888007|Yahoo (United Kin...|   1325784139|    4|\n",
      "|1995396835|girish ananthakri...|United Kingdom|2229052760|Yahoo (United Kin...|   1325784139|    5|\n",
      "|1995396835|prateeksha uday c...|United Kingdom|2612121147|Yahoo (United Kin...|   1325784139|    3|\n",
      "|1995396835| abhranil chatterjee|United Kingdom|2226798714|Yahoo (United Kin...|   1325784139|    1|\n",
      "|1995396835|        bijoy sarkar|United Kingdom|2231967064|Yahoo (United Kin...|   1325784139|    2|\n",
      "|2018731854| johan juliana dries|       Finland|2157271387|   Philips (Finland)|   1329325741|    2|\n",
      "|2018731854|       bram de jager|   Netherlands|2153892322|Eindhoven Univers...|     83019370|    3|\n",
      "|2018731854| m maarten steinbuch|   Netherlands|2031877956|Eindhoven Univers...|     83019370|    4|\n",
      "|2018731854|   rick van der maas|   Netherlands|1908953382|Eindhoven Univers...|     83019370|    1|\n",
      "|2018903751|       tien wen sung|        Taiwan|2973540564|CTBC Business School|     38320133|    2|\n",
      "|2018903751|        chusing yang|        Taiwan|2170662939|National Cheng Ku...|     91807558|    3|\n",
      "|2018903751|         fu tian lin|        Taiwan|2783198695|National Cheng Ku...|     91807558|    1|\n",
      "|2018903751|       tien wen sung|        Taiwan|2973540564|National Cheng Ku...|     91807558|    2|\n",
      "|2019058036|       younghwan lee|          null|2142349719|                null|         null|    2|\n",
      "|2019058036|          soonsoo oh|          null|2303913231|                null|         null|    1|\n",
      "|1996110717|            sun yoon|   South Korea|2159070671|Kyung Hee University|     35928602|    2|\n",
      "+----------+--------------------+--------------+----------+--------------------+-------------+-----+\n",
      "only showing top 20 rows\n",
      "\n"
     ]
    }
   ],
   "source": [
    "testing2 = testing1.select(\"id\",explode(\"authors\").alias(\"authors\"))\n",
    "testing3 = testing2.select(testing2.id.alias(\"paper_id\"), \\\n",
    "    F.col(\"authors\").getItem(\"name\").alias(\"name\"), \\\n",
    "    F.col(\"authors\").getItem(\"country\").alias(\"country\"), \\\n",
    "    F.col(\"authors\").getItem(\"id\").alias(\"author_id\"), \\\n",
    "    F.col(\"authors\").getItem(\"affiliation\").alias(\"affiliation\"), \\\n",
    "    F.col(\"authors\").getItem(\"affiliationid\").alias(\"affiliationid\"), \\\n",
    "    F.col(\"authors\").getItem(\"order\").alias(\"order\"), \\\n",
    "    )\n",
    "testing3.createOrReplaceTempView('authors')\n",
    "testing3.show()"
   ]
  },
  {
   "cell_type": "code",
   "execution_count": 21,
   "metadata": {},
   "outputs": [],
   "source": [
    "paper_id_country=spark.sql(\n",
    "    \"\"\"select paper_id, \n",
    "    country,  \n",
    "    count(country) over (partition by paper_id,country) as total_authors_country,\n",
    "    count(paper_id) over (partition by paper_id) as total_authors from authors\"\"\"\n",
    ")\n",
    "paper_id=spark.sql(\n",
    "    \"\"\"select paper_id,   \n",
    "    count(paper_id) over (partition by paper_id) as total_authors from authors\"\"\"\n",
    ")\n"
   ]
  },
  {
   "cell_type": "code",
   "execution_count": 22,
   "metadata": {},
   "outputs": [],
   "source": [
    "testing4= paper_id_country.selectExpr(\"paper_id\",\"country\",\"total_authors_country/total_authors As prop\").distinct()\n",
    "testing5 = testing4.select(\"paper_id\",\"country\",concat_ws(':',testing4.country,testing4.prop).alias(\"country_prop\"))\n",
    "testing6 = testing5.groupby(\"paper_id\").agg(F.concat_ws(\", \", F.collect_list(testing5.country_prop))).filter(\"paper_id = 1996110717\")"
   ]
  },
  {
   "cell_type": "code",
   "execution_count": 23,
   "metadata": {},
   "outputs": [
    {
     "name": "stderr",
     "output_type": "stream",
     "text": [
      "                                                                                \r"
     ]
    },
    {
     "name": "stdout",
     "output_type": "stream",
     "text": [
      "+--------+-------------+----+\n",
      "|paper_id|      country|prop|\n",
      "+--------+-------------+----+\n",
      "|   14808|         null| 0.0|\n",
      "|   94027|         null| 0.0|\n",
      "|  133140|         null| 0.0|\n",
      "|  151232|         null| 0.0|\n",
      "|  151232|       France| 0.5|\n",
      "|  177175|United States| 1.0|\n",
      "|  190774|      Germany| 1.0|\n",
      "|  197896|    Singapore| 1.0|\n",
      "|  198536|         null| 0.0|\n",
      "|  198536|United States| 0.4|\n",
      "|  202246|        China| 1.0|\n",
      "|  204884|         null| 0.0|\n",
      "|  258746|         null| 0.0|\n",
      "|  258746|      Austria|0.25|\n",
      "|  267997|        Egypt|0.25|\n",
      "|  267997|       Kuwait| 0.5|\n",
      "|  267997|       Norway|0.25|\n",
      "|  287947|         null| 0.0|\n",
      "|  309944|United States| 1.0|\n",
      "|  344186|         null| 0.0|\n",
      "+--------+-------------+----+\n",
      "only showing top 20 rows\n",
      "\n"
     ]
    },
    {
     "name": "stderr",
     "output_type": "stream",
     "text": [
      "                                                                                \r"
     ]
    },
    {
     "name": "stdout",
     "output_type": "stream",
     "text": [
      "+--------+-------------+-----------------+\n",
      "|paper_id|      country|     country_prop|\n",
      "+--------+-------------+-----------------+\n",
      "|   14808|         null|              0.0|\n",
      "|   94027|         null|              0.0|\n",
      "|  133140|         null|              0.0|\n",
      "|  151232|         null|              0.0|\n",
      "|  151232|       France|       France:0.5|\n",
      "|  177175|United States|United States:1.0|\n",
      "|  190774|      Germany|      Germany:1.0|\n",
      "|  197896|    Singapore|    Singapore:1.0|\n",
      "|  198536|         null|              0.0|\n",
      "|  198536|United States|United States:0.4|\n",
      "|  202246|        China|        China:1.0|\n",
      "|  204884|         null|              0.0|\n",
      "|  258746|         null|              0.0|\n",
      "|  258746|      Austria|     Austria:0.25|\n",
      "|  267997|        Egypt|       Egypt:0.25|\n",
      "|  267997|       Kuwait|       Kuwait:0.5|\n",
      "|  267997|       Norway|      Norway:0.25|\n",
      "|  287947|         null|              0.0|\n",
      "|  309944|United States|United States:1.0|\n",
      "|  344186|         null|              0.0|\n",
      "+--------+-------------+-----------------+\n",
      "only showing top 20 rows\n",
      "\n"
     ]
    },
    {
     "name": "stderr",
     "output_type": "stream",
     "text": [
      "[Stage 43:>                                                         (0 + 1) / 1]\r"
     ]
    },
    {
     "name": "stdout",
     "output_type": "stream",
     "text": [
      "+----------+-----------------------------------------+\n",
      "|  paper_id|concat_ws(, , collect_list(country_prop))|\n",
      "+----------+-----------------------------------------+\n",
      "|1996110717|                     South Korea:0.857...|\n",
      "+----------+-----------------------------------------+\n",
      "\n"
     ]
    },
    {
     "name": "stderr",
     "output_type": "stream",
     "text": [
      "                                                                                \r"
     ]
    }
   ],
   "source": [
    "testing4.show()\n",
    "testing5.show()\n",
    "testing6.show()"
   ]
  },
  {
   "cell_type": "code",
   "execution_count": 24,
   "metadata": {},
   "outputs": [
    {
     "name": "stderr",
     "output_type": "stream",
     "text": [
      "[Stage 46:=============================>                            (1 + 1) / 2]\r"
     ]
    },
    {
     "name": "stdout",
     "output_type": "stream",
     "text": [
      "+-----------------------+------------------+\n",
      "|topic                  |total_papers_topic|\n",
      "+-----------------------+------------------+\n",
      "|computer science       |999908            |\n",
      "|artificial intelligence|183699            |\n",
      "|computer network       |109615            |\n",
      "|computer vision        |87246             |\n",
      "|electrical engineering |64905             |\n",
      "|mechanical engineering |64275             |\n",
      "|computer hardware      |62642             |\n",
      "|real time computing    |54914             |\n",
      "|distributed computing  |49578             |\n",
      "|pattern recognition    |47973             |\n",
      "+-----------------------+------------------+\n",
      "only showing top 10 rows\n",
      "\n"
     ]
    },
    {
     "name": "stderr",
     "output_type": "stream",
     "text": [
      "                                                                                \r"
     ]
    }
   ],
   "source": [
    "testing2 = testing1.select(\"id\",explode(\"topics\").alias(\"topic\"))\n",
    "testing2.createOrReplaceTempView('topics')\n",
    "testing3=spark.sql(\n",
    "    \"\"\"select topic,   \n",
    "    count(id) over (partition by topic) as total_papers_topic from topics\"\"\"\n",
    ")\n",
    "testing3.distinct().sort(\"total_papers_topic\", ascending= False).show(10,False)\n"
   ]
  },
  {
   "cell_type": "code",
   "execution_count": 25,
   "metadata": {},
   "outputs": [
    {
     "name": "stderr",
     "output_type": "stream",
     "text": [
      "[Stage 47:=====================================================>  (23 + 1) / 24]\r"
     ]
    },
    {
     "name": "stdout",
     "output_type": "stream",
     "text": [
      "+--------------------+------+\n",
      "|               topic| count|\n",
      "+--------------------+------+\n",
      "|    computer science|183686|\n",
      "|     computer vision| 87246|\n",
      "| pattern recognition| 47901|\n",
      "|    machine learning| 47867|\n",
      "|natural language ...| 19017|\n",
      "|         data mining| 14556|\n",
      "|artificial neural...| 11231|\n",
      "|  feature extraction| 10842|\n",
      "|  speech recognition| 10407|\n",
      "|    image processing| 10324|\n",
      "|               pixel|  9285|\n",
      "|computer graphics...|  8581|\n",
      "|        segmentation|  7620|\n",
      "|           algorithm|  7576|\n",
      "|support vector ma...|  7485|\n",
      "|    cluster analysis|  6232|\n",
      "|          classifier|  6033|\n",
      "|  image segmentation|  5792|\n",
      "|               robot|  5281|\n",
      "|          robustness|  5159|\n",
      "+--------------------+------+\n",
      "only showing top 20 rows\n",
      "\n",
      "+----------+--------------------+\n",
      "|        id|               topic|\n",
      "+----------+--------------------+\n",
      "|2018731854|     computer vision|\n",
      "|2018731854|     medical imaging|\n",
      "|2018731854|            detector|\n",
      "|2018731854|    computer science|\n",
      "|2018731854|   3d reconstruction|\n",
      "|2018731854|                beam|\n",
      "|2018731854|         calibration|\n",
      "|2018731854|iterative reconst...|\n",
      "|2057690314|theoretical compu...|\n",
      "|2057690314|        graph kernel|\n",
      "|2057690314|incremental decis...|\n",
      "|2057690314|semi supervised l...|\n",
      "|2057690314|    machine learning|\n",
      "|2057690314|    computer science|\n",
      "|2057690314|online machine le...|\n",
      "|2057690314|radial basis func...|\n",
      "|2057690314|   polynomial kernel|\n",
      "|2057690314|       id3 algorithm|\n",
      "|2057690314| pattern recognition|\n",
      "|2057690314|         tree kernel|\n",
      "+----------+--------------------+\n",
      "only showing top 20 rows\n",
      "\n"
     ]
    },
    {
     "name": "stderr",
     "output_type": "stream",
     "text": [
      "                                                                                \r"
     ]
    }
   ],
   "source": [
    "# correlated topics with selected topics\n",
    "sel_topic = \"artificial intelligence\"\n",
    "testing2 = testing1.filter(F.array_contains(\"topics\",sel_topic)).select(\"id\",explode(\"topics\").alias(\"topic\")).filter(\"topic != \\'\" +sel_topic+ \"\\'\")\n",
    "testing3 = testing2.groupBy(\"topic\").count().sort(\"count\",ascending=False).show()\n",
    "testing2.show()\n"
   ]
  },
  {
   "cell_type": "code",
   "execution_count": 12,
   "metadata": {},
   "outputs": [
    {
     "name": "stdout",
     "output_type": "stream",
     "text": [
      "+--------------+-----+\n",
      "|name          |count|\n",
      "+--------------+-----+\n",
      "|jordin t kare |2    |\n",
      "|lowell l wood |2    |\n",
      "|richard t lord|2    |\n",
      "|marie webb    |2    |\n",
      "|paul holman   |2    |\n",
      "+--------------+-----+\n",
      "only showing top 5 rows\n",
      "\n"
     ]
    }
   ],
   "source": [
    "# Authors for a given topic\n",
    "sel_topic = \"multimedia\"\n",
    "testing2 = testing1.filter(F.array_contains(\"topics\",sel_topic)).select(\"id\",explode(\"authors\").alias(\"authors\"),\"topics\",\"type\")\n",
    "testing3 = testing2.select(testing2.id.alias(\"paper_id\"), testing2.topics.alias(\"topics\"), testing2.type.alias(\"type\"), \\\n",
    "    F.col(\"authors\").getItem(\"name\").alias(\"name\"), \\\n",
    "    F.col(\"authors\").getItem(\"country\").alias(\"country\"), \\\n",
    "    F.col(\"authors\").getItem(\"id\").alias(\"author_id\"), \\\n",
    "    F.col(\"authors\").getItem(\"affiliation\").alias(\"affiliation\"), \\\n",
    "    )\n",
    "testing4 = testing3.groupBy(\"country\").count().sort(\"count\",ascending=False) # country for a given topic\n",
    "testing4 = testing3.groupBy(\"type\").count().sort(\"count\",ascending=False) # type for a given topic\n",
    "testing4 = testing3.groupBy(\"affiliation\").count().sort(\"count\",ascending=False) # affiliation for a given topic\n",
    "testing4 = testing3.groupBy(\"name\").count().sort(\"count\",ascending=False) # authors for a given topic\n",
    "testing4.show(5,False)\n",
    "\n"
   ]
  },
  {
   "cell_type": "code",
   "execution_count": null,
   "metadata": {},
   "outputs": [],
   "source": [
    "# Calculate h-index\n"
   ]
  },
  {
   "cell_type": "code",
   "execution_count": 13,
   "metadata": {},
   "outputs": [
    {
     "name": "stdout",
     "output_type": "stream",
     "text": [
      "+----------------+-----+\n",
      "|        confname|count|\n",
      "+----------------+-----+\n",
      "|       icml 2019|   35|\n",
      "|      naacl 2019|   32|\n",
      "|       iclr 2020|   26|\n",
      "|      ijcai 2019|   26|\n",
      "|       iclr 2019|   25|\n",
      "|       cvpr 2019|   25|\n",
      "|       aaai 2020|   23|\n",
      "|      emnlp 2018|   21|\n",
      "|      ijcai 2018|   20|\n",
      "|      naacl 2018|   19|\n",
      "|       aaai 2018|   16|\n",
      "|     coling 2018|   16|\n",
      "|     ijcnlp 2019|   15|\n",
      "|        acl 2019|   15|\n",
      "|       aaai 2019|   14|\n",
      "|        acl 2018|   14|\n",
      "|       lrec 2018|   13|\n",
      "|interspeech 2018|   13|\n",
      "|interspeech 2019|   11|\n",
      "|       iccv 2019|   10|\n",
      "+----------------+-----+\n",
      "only showing top 20 rows\n",
      "\n"
     ]
    }
   ],
   "source": [
    "# Conferences for a given topic\n",
    "sel_topic = \"computer science\"\n",
    "testing2 = testing1.filter(F.array_contains(\"topics\",sel_topic)).select(\"id\", \\\n",
    "    \"confname\",\"type\", 'conferenceseriesid', 'confname', 'confplace', 'confseries', 'confseriesname') \\\n",
    "    .filter(\"confname is not null\")\n",
    "\n",
    "\n",
    "testing3 = testing2.groupBy(\"confseriesname\").count().sort(\"count\",ascending=False) # confseries for a given topic\n",
    "testing3 = testing2.groupBy(\"confname\").count().sort(\"count\",ascending=False)\n",
    "testing3.show()\n"
   ]
  },
  {
   "cell_type": "code",
   "execution_count": 14,
   "metadata": {},
   "outputs": [
    {
     "name": "stdout",
     "output_type": "stream",
     "text": [
      "+----------+----------------------+\n",
      "|id        |industrial_sector     |\n",
      "+----------+----------------------+\n",
      "|2281235878|computing_and_it      |\n",
      "|2281235878|technology            |\n",
      "|2281235878|information_technology|\n",
      "|2267368397|home_appliances       |\n",
      "|2267368397|technology            |\n",
      "|2267368397|electronics           |\n",
      "|2311189127|electronics           |\n",
      "|2311189127|technology            |\n",
      "|2309667953|electronics           |\n",
      "|2309667953|technology            |\n",
      "+----------+----------------------+\n",
      "only showing top 10 rows\n",
      "\n"
     ]
    }
   ],
   "source": [
    "# Citations\n",
    "sel_topic = \"multimedia\"\n",
    "testing2 = testing1.filter(F.array_contains(\"topics\",sel_topic)).select(\"id\",explode(\"industrial_sectors\").alias(\"industrial_sector\")).filter(\"industrial_sectors is not null\")\n",
    "testing2.show(10,False)\n",
    "\n"
   ]
  }
 ],
 "metadata": {
  "interpreter": {
   "hash": "916dbcbb3f70747c44a77c7bcd40155683ae19c65e1c03b4aa3499c5328201f1"
  },
  "kernelspec": {
   "display_name": "Python 3.8.10 64-bit",
   "language": "python",
   "name": "python3"
  },
  "language_info": {
   "codemirror_mode": {
    "name": "ipython",
    "version": 3
   },
   "file_extension": ".py",
   "mimetype": "text/x-python",
   "name": "python",
   "nbconvert_exporter": "python",
   "pygments_lexer": "ipython3",
   "version": "3.8.10"
  },
  "orig_nbformat": 4
 },
 "nbformat": 4,
 "nbformat_minor": 2
}
