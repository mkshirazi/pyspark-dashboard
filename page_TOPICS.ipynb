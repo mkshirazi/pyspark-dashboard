{
 "cells": [
  {
   "cell_type": "code",
   "execution_count": 1,
   "metadata": {
    "id": "zUeU3a8f27wI"
   },
   "outputs": [],
   "source": [
    "# !apt-get update -qq > /dev/null\n",
    "# !apt-get install openjdk-8-jdk-headless -qq > /dev/null\n",
    "# !wget -q https://downloads.apache.org/spark/spark-2.4.8/spark-2.4.8-bin-hadoop2.7.tgz\n",
    "# !tar xf spark-2.4.8-bin-hadoop2.7.tgz\n",
    "# !pip install -q findspark"
   ]
  },
  {
   "cell_type": "code",
   "execution_count": 2,
   "metadata": {},
   "outputs": [
    {
     "data": {
      "text/plain": [
       "'C:\\\\spark-3.2.0-bin-hadoop3.2'"
      ]
     },
     "execution_count": 2,
     "metadata": {},
     "output_type": "execute_result"
    }
   ],
   "source": [
    "import os\n",
    "os.environ[\"JAVA_HOME\"] = \"C:\\Program Files\\Java\\jdk1.8.0_202\"\n",
    "os.environ[\"SPARK_HOME\"] = \"C:\\spark-3.2.0-bin-hadoop3.2\"\n",
    "\n",
    "import findspark\n",
    "findspark.init()\n",
    "findspark.find()"
   ]
  },
  {
   "cell_type": "code",
   "execution_count": 3,
   "metadata": {
    "id": "iCxRoN_h2-J_"
   },
   "outputs": [],
   "source": [
    "from pyspark import SparkContext\n",
    "sc = SparkContext(appName=\"YourTest\", master=\"local[*]\")\n",
    "# sc = SparkContext(\"local\", \"test-app\")"
   ]
  },
  {
   "cell_type": "code",
   "execution_count": 4,
   "metadata": {
    "id": "VtuaR_A-3AHL"
   },
   "outputs": [],
   "source": [
    "# from pyspark.sql import SQLContext\n",
    "# sqlContext = SQLContext(sc)\n",
    "\n",
    "from pyspark.sql import SparkSession\n",
    "import random\n",
    "\n",
    "spark = SparkSession.builder.appName(\"YourTest\").master(\"local[2]\").config('spark.ui.port', random.randrange(4000,5000)).getOrCreate()"
   ]
  },
  {
   "cell_type": "markdown",
   "metadata": {
    "id": "SYIfqvEj4Bhn"
   },
   "source": [
    "## Importing necessary packages"
   ]
  },
  {
   "cell_type": "code",
   "execution_count": 5,
   "metadata": {
    "id": "uw-vIqi23d3V"
   },
   "outputs": [],
   "source": [
    "# #installing dash\n",
    "# !pip install dash\n",
    "# !pip install jupyter-dash\n",
    "# !pip install dash_bootstrap_components"
   ]
  },
  {
   "cell_type": "code",
   "execution_count": 6,
   "metadata": {
    "id": "MoBQ90Zp3q01"
   },
   "outputs": [],
   "source": [
    "### importing libraries\n",
    "#json\n",
    "# import jsonlines\n",
    "#spark\n",
    "from pyspark.sql.functions import explode,col\n",
    "from pyspark.sql import functions as F\n",
    "from pyspark.sql.functions import concat_ws\n",
    "#plotly\n",
    "import plotly.graph_objects as go\n",
    "import plotly.express as px\n",
    "from plotly.subplots import make_subplots\n",
    "# matplotlib and wordcloud\n",
    "import matplotlib.pyplot as plt\n",
    "from wordcloud import WordCloud\n",
    "#dash\n",
    "from jupyter_dash import JupyterDash\n",
    "from dash import dcc\n",
    "import dash_bootstrap_components as dbc\n",
    "from dash import html\n",
    "from dash.dependencies import Input, Output \n",
    "# numerical computing\n",
    "import pandas as pd\n",
    "import numpy as np"
   ]
  },
  {
   "cell_type": "markdown",
   "metadata": {
    "id": "wqiU4r_Y3_TR"
   },
   "source": [
    "## Data upload"
   ]
  },
  {
   "cell_type": "code",
   "execution_count": 7,
   "metadata": {
    "id": "ZhgNzszA3FRF"
   },
   "outputs": [],
   "source": [
    "# from google.colab import files\n",
    "# uploaded = files.upload()"
   ]
  },
  {
   "cell_type": "code",
   "execution_count": 8,
   "metadata": {
    "colab": {
     "base_uri": "https://localhost:8080/"
    },
    "id": "S8PW_w5V3Hub",
    "outputId": "5e24b714-6165-444e-b48e-28ff5045dab6"
   },
   "outputs": [
    {
     "data": {
      "text/plain": [
       "DataFrame[abstract: string, authors: array<struct<affiliation:string,affiliationid:bigint,country:string,gridid:string,id:bigint,name:string,order:bigint>>, citation_for_year: array<struct<citationcount:bigint,year:string>>, citationcount: bigint, conferenceseriesid: bigint, confname: string, confplace: string, confseries: string, confseriesname: string, countries: struct<albania:double,algeria:double,argentina:double,australia:double,austria:double,azerbaijan:double,bahrain:double,bangladesh:double,belarus:double,belgium:double,bermuda:double,bolivia:double,bosnia and herzegovina:double,botswana:double,brazil:double,british virgin islands:double,brunei:double,bulgaria:double,cambodia:double,cameroon:double,canada:double,chile:double,china:double,colombia:double,costa rica:double,croatia:double,cuba:double,cyprus:double,czechia:double,democratic republic of the congo:double,denmark:double,ecuador:double,egypt:double,estonia:double,ethiopia:double,fiji:double,finland:double,france:double,germany:double,ghana:double,greece:double,hungary:double,iceland:double,india:double,indonesia:double,iran:double,iraq:double,ireland:double,israel:double,italy:double,jamaica:double,japan:double,jordan:double,kazakhstan:double,kenya:double,kuwait:double,latvia:double,lebanon:double,libya:double,liechtenstein:double,lithuania:double,luxembourg:double,macao:double,malawi:double,malaysia:double,malta:double,mauritius:double,mexico:double,moldova:double,mongolia:double,montenegro:double,morocco:double,mozambique:double,myanmar:double,namibia:double,nepal:double,netherlands:double,new zealand:double,nigeria:double,north macedonia:double,norway:double,oman:double,pakistan:double,palestinian territory:double,panama:double,peru:double,philippines:double,poland:double,portugal:double,qatar:double,reunion:double,romania:double,russia:double,saudi arabia:double,senegal:double,serbia:double,singapore:double,slovakia:double,slovenia:double,south africa:double,south korea:double,spain:double,sri lanka:double,sudan:double,sweden:double,switzerland:double,syria:double,taiwan:double,tanzania:double,thailand:double,trinidad and tobago:double,tunisia:double,turkey:double,uganda:double,ukraine:double,united arab emirates:double,united kingdom:double,united states:double,uruguay:double,venezuela:double,vietnam:double,zimbabwe:double>, cso_annotated: boolean, cso_enhanced_topics: array<string>, cso_semantic_topics: array<string>, cso_syntactic_topics: array<string>, dbpedia_categories: array<string>, doi: string, grid_type: struct<archive:double,company:double,education:double,facility:double,government:double,healthcare:double,nonprofit:double,other:double>, id: bigint, industrial_sectors: array<string>, journame: string, language: array<string>, papertitle: string, references: array<bigint>, topics: array<string>, type: string, urls: array<string>, year: string]"
      ]
     },
     "execution_count": 8,
     "metadata": {},
     "output_type": "execute_result"
    }
   ],
   "source": [
    "data = spark.read.json(\"sample.jsonl\").sort(\"year\",ascending=False)\n",
    "data.cache()"
   ]
  },
  {
   "cell_type": "code",
   "execution_count": 9,
   "metadata": {
    "colab": {
     "base_uri": "https://localhost:8080/"
    },
    "id": "k2bn_8213J92",
    "outputId": "46490cf3-70f9-4397-c19a-df58824818e9"
   },
   "outputs": [
    {
     "data": {
      "text/plain": [
       "50000"
      ]
     },
     "execution_count": 9,
     "metadata": {},
     "output_type": "execute_result"
    }
   ],
   "source": [
    "data.count()"
   ]
  },
  {
   "cell_type": "code",
   "execution_count": 10,
   "metadata": {},
   "outputs": [
    {
     "name": "stdout",
     "output_type": "stream",
     "text": [
      "+--------------------+\n",
      "|          references|\n",
      "+--------------------+\n",
      "|                null|\n",
      "|[2912017389, 3931...|\n",
      "|[2550146718, 2008...|\n",
      "|[2563412847, 2060...|\n",
      "|[2798728990, 2004...|\n",
      "+--------------------+\n",
      "only showing top 5 rows\n",
      "\n"
     ]
    }
   ],
   "source": [
    "data.createOrReplaceTempView(\"all_data\")\n",
    "all_data_sql = spark.sql(\"select * from all_data\")\n",
    "all_data_sql.select(\"references\").show(5)"
   ]
  },
  {
   "cell_type": "code",
   "execution_count": 11,
   "metadata": {},
   "outputs": [],
   "source": [
    "testing2 = all_data_sql.select(\"id\",explode(\"topics\").alias(\"topic\"))\n",
    "testing2.createOrReplaceTempView('topics')"
   ]
  },
  {
   "cell_type": "code",
   "execution_count": 12,
   "metadata": {},
   "outputs": [
    {
     "name": "stdout",
     "output_type": "stream",
     "text": [
      "+-----------------------+------------------+\n",
      "|topic                  |total_papers_topic|\n",
      "+-----------------------+------------------+\n",
      "|computer science       |50000             |\n",
      "|artificial intelligence|11815             |\n",
      "|computer network       |5796              |\n",
      "|computer vision        |4943              |\n",
      "|machine learning       |3969              |\n",
      "|data mining            |3566              |\n",
      "|real time computing    |3529              |\n",
      "|pattern recognition    |3450              |\n",
      "|distributed computing  |3447              |\n",
      "|electronic engineering |2593              |\n",
      "+-----------------------+------------------+\n",
      "only showing top 10 rows\n",
      "\n"
     ]
    }
   ],
   "source": [
    "testing3=spark.sql(\n",
    "    \"\"\"select topic,   \n",
    "    count(id) over (partition by topic) as total_papers_topic from topics\"\"\"\n",
    ")\n",
    "testing3.distinct().sort(\"total_papers_topic\", ascending= False).show(10,False)"
   ]
  },
  {
   "cell_type": "markdown",
   "metadata": {
    "id": "OV73Jmr3342C"
   },
   "source": [
    "## Preparing the data"
   ]
  },
  {
   "cell_type": "code",
   "execution_count": 32,
   "metadata": {},
   "outputs": [],
   "source": [
    "# Top papers by topic\n",
    "def top_papers(n=5):\n",
    "    return main_topic_df.select(\"id\",\"papertitle\",\"authors\",\"year\",\"citationcount\")\\\n",
    "        .orderBy(\"citationcount\", ascending=False).limit(n)\\\n",
    "        .select(\"id\",\"papertitle\", explode(\"authors\").alias(\"author\"),\"year\",\"citationcount\")\\\n",
    "        .select(\"id\",\"papertitle\",\"year\",\"citationcount\", F.col(\"author\").getItem(\"name\").alias(\"name\"))\\\n",
    "        .groupBy([\"id\",\"papertitle\",\"year\",\"citationcount\"]).agg(F.collect_list(\"name\").alias(\"authors\"))#.show()\n",
    "\n",
    "\n",
    "# For timeline chart. number of citations. Each dot represents a paper\n",
    "def timeline():\n",
    "    df = main_topic_df.select(\"id\",\"year\",\"citationcount\")\\\n",
    "        .orderBy(\"year\").toPandas()\n",
    "    fig = px.scatter(df,x=\"year\",y=\"citationcount\", opacity=0.5)\n",
    "    return fig\n",
    "\n",
    "#explode authors\n",
    "def exploded_authors():\n",
    "    global exploded_authors_topic\n",
    "    exploded_authors_topic = (main_topic_df.select(\"id\",explode(\"authors\").alias(\"author\"),\"citationcount\")\\\n",
    "                            .select(\"id\", \\\n",
    "                                F.col(\"author\").getItem(\"country\").alias(\"country\"), \\\n",
    "                                F.col(\"author\").getItem(\"name\").alias(\"name\"), \\\n",
    "                                F.col(\"author\").getItem(\"id\").alias(\"author_id\"), \\\n",
    "                                F.col(\"author\").getItem(\"affiliation\").alias(\"affiliation\"), \\\n",
    "                                \"citationcount\").cache())\n",
    "    return exploded_authors_topic\n",
    "\n",
    "# countries of institutions\n",
    "def countries():\n",
    "    df = exploded_authors_topic.select(\"id\",\"country\",\"citationcount\").distinct()\\\n",
    "            .groupBy(\"country\").agg(F.sum(\"citationcount\").alias(\"citations\")).toPandas()\n",
    "    map_data = px.data.gapminder().query(\"year==2007\")[[\"iso_alpha\",\"country\",\"continent\"]]\n",
    "    # df\n",
    "    map_data = df[1:].merge(map_data,how=\"left\").dropna()\n",
    "    fig = px.choropleth(map_data, locations=\"iso_alpha\",color=\"citations\",\n",
    "                     hover_name=\"country\",color_continuous_scale=px.colors.sequential.Plasma)\n",
    "    return fig\n",
    "\n",
    "\n",
    "#Top authors for a topic\n",
    "def top_authors(n=5):\n",
    "    global top_authors_df\n",
    "    top_authors_df = exploded_authors_topic.select(\"name\",\"author_id\",\"citationcount\")\\\n",
    "        .groupBy([\"name\",\"author_id\"]).agg(F.sum(\"citationcount\").alias(\"citationcount\"))\\\n",
    "        .filter(\"name is not null\")\\\n",
    "        .orderBy(\"citationcount\", ascending=False).limit(n).cache()\n",
    "    return top_authors_df\n",
    "\n",
    "    \n",
    "#Top institutions for a topic\n",
    "def top_institutions(n=5):\n",
    "    global top_institutes_df\n",
    "    top_institutes_df = exploded_authors_topic.select(\"id\",\"affiliation\",\"citationcount\").distinct()\\\n",
    "        .groupBy([\"affiliation\"]).agg(F.sum(\"citationcount\").alias(\"citationcount\"))\\\n",
    "        .filter(\"affiliation is not null\")\\\n",
    "        .orderBy(\"citationcount\", ascending=False).limit(n)\n",
    "    return top_institutes_df\n",
    "\n",
    "\n",
    "def by_type():\n",
    "    df = main_topic_df.select(\"id\",\"type\").distinct()\\\n",
    "        .filter(\"type is not null\")\\\n",
    "        .groupBy(\"type\").agg(F.count(\"id\").alias(\"number of papers\")).toPandas()\n",
    "    return px.pie(df,names=\"type\",values=\"number of papers\")#.show()\n",
    "\n",
    "    \n",
    "def main_topic(topic_input, year_input):\n",
    "    global main_topic_df\n",
    "    main_topic_df = (all_data_sql.filter(F.array_contains(\"topics\",topic_input.lower()))\n",
    "             .filter(F.year(\"year\").isin(list(range(int(year_input[0]), int(year_input[1])+1))))\n",
    "             .select(\"id\",\"type\",\"papertitle\",\"authors\",F.year(\"year\").alias(\"year\"),\"citationcount\"))\n",
    "    return main_topic_df\n",
    "\n",
    "\n"
   ]
  },
  {
   "cell_type": "code",
   "execution_count": 33,
   "metadata": {},
   "outputs": [],
   "source": [
    "# top_author, top_institutes, top_paper, timeline_data, type_data, countries_data = main_topic(topic_input, year_input)"
   ]
  },
  {
   "cell_type": "code",
   "execution_count": 34,
   "metadata": {},
   "outputs": [],
   "source": [
    "# top_institutes.toPandas()"
   ]
  },
  {
   "cell_type": "markdown",
   "metadata": {
    "id": "JoL2Vqk337ML"
   },
   "source": [
    "## Filters"
   ]
  },
  {
   "cell_type": "code",
   "execution_count": 35,
   "metadata": {
    "id": "z60YtE1N3wDJ"
   },
   "outputs": [],
   "source": [
    "def distinct_topics():\n",
    "    return spark.sql(\"select distinct topic from topics\")\n",
    "\n",
    "topic_names = [topic.title() for topic in distinct_topics().toPandas()[\"topic\"].tolist()]\n",
    "year_max = data.agg({\"year\":\"max\"}).toPandas()[\"max(year)\"][0].split('-')[0]\n",
    "year_min = data.agg({\"year\":\"min\"}).toPandas()[\"min(year)\"][0].split('-')[0]"
   ]
  },
  {
   "cell_type": "markdown",
   "metadata": {
    "id": "s_rqeoDI4F9k"
   },
   "source": [
    "## MAIN DASHBOARD"
   ]
  },
  {
   "cell_type": "code",
   "execution_count": 36,
   "metadata": {},
   "outputs": [
    {
     "name": "stdout",
     "output_type": "stream",
     "text": [
      "Dash app running on http://127.0.0.1:8081/\n"
     ]
    }
   ],
   "source": [
    "app = JupyterDash(external_stylesheets=[dbc.themes.DARKLY])\n",
    "\n",
    "app.layout = html.Div([ \n",
    "          dbc.Container([\n",
    "             dbc.Row([\n",
    "                  dbc.Col(\n",
    "                          html.H3(children = \"Exploring Research in CS with different Topics\", \n",
    "                                  style = {'color':'#3838ff'},\n",
    "                                  className=\"text-center mt-4 mb-5\"), align=\"center\", className=\"mt4\")       \n",
    "             ]),\n",
    "            dbc.Row([\n",
    "                  dbc.Col(\n",
    "                      html.Div(children = [\n",
    "                          html.H5(\"Topic\", className=\"text-center mt-4 mb-5\",\n",
    "                                     style = {'width': '20vw'}),\n",
    "                          dcc.Dropdown(id = \"topic-select\",\n",
    "                                    options = [{'label': i, 'value': i} for i in topic_names],\n",
    "                                    value = \"Artificial Intelligence\",\n",
    "                                    style = {'width': '20vw','color':'black', }\n",
    "                                    )], ),\n",
    "                      align=\"center\",\n",
    "                      width = 2),\n",
    "                dbc.Col(width=1),\n",
    "                 dbc.Col(\n",
    "                      html.Div(children = [\n",
    "                          html.H5(\"Year Range\", className=\"text-center mt-4 mb-5\",\n",
    "                                     style = {'width': '40vw','display': 'inline-block', 'padding':1}\n",
    "                                    ),\n",
    "                          dcc.RangeSlider(id = \"year-select\",\n",
    "                                         min = int(year_min),\n",
    "                                         max = int(year_max),\n",
    "                                         step = 1,\n",
    "                                         value = [2010, 2015],\n",
    "                                         tooltip={\"placement\": \"bottom\", \"always_visible\": True},\n",
    "#                                          style = {'width': '60vw','display': 'inline-block', 'padding':10}\n",
    "                                         )\n",
    "                      ]),\n",
    "                    align=\"center\",\n",
    "                      width = 5)], \n",
    "                   justify = \"center\"),\n",
    "              html.Br(),\n",
    "              html.Br(),\n",
    "              dbc.Row([\n",
    "                  dbc.Col([\n",
    "                          dcc.Graph(id=\"papers-table\")\n",
    "                      ], align = \"center\")\n",
    "                  \n",
    "              ]),\n",
    "              html.Br(),\n",
    "              html.Br(),\n",
    "              dbc.Row([\n",
    "                  dbc.Col(\n",
    "                      html.Div([dcc.Graph(id = \"scatter-plot\")]),\n",
    "                      width=7, align=\"center\"),\n",
    "                  dbc.Col(\n",
    "                      html.Div([dcc.Graph(id = \"pie-chart\")]),\n",
    "                      width=5, align=\"center\"),\n",
    "              ]),\n",
    "              html.Br(),\n",
    "              html.Br(),\n",
    "              dbc.Row([\n",
    "                  dbc.Col(\n",
    "                     [ dcc.Graph(id=\"choropleth-chart\")],\n",
    "                       align = \"center\")\n",
    "              ]),\n",
    "              html.Br(),\n",
    "              html.Br(),\n",
    "              dbc.Row([\n",
    "                  html.H5(children=[\"Top 5 Authors in the Selected Field\"],style={'textAlign': 'center'}),\n",
    "                  dbc.Col([\n",
    "                       dbc.Card(dbc.CardBody(\n",
    "                           [html.H4(id = \"author-1\",\n",
    "                                        style={'textAlign': 'center','color': '#0000db','fontSize': 25,'height':\"4vw\"}),\n",
    "                           html.H6(id = \"author-1-citations\",\n",
    "                                        style={'textAlign': 'center','color': '#0000db','fontSize': 15,'height':\"1vw\"})])       \n",
    "                               ) \n",
    "                      ]),\n",
    "                  dbc.Col([\n",
    "                       dbc.Card(dbc.CardBody(\n",
    "                           [html.H4(id = \"author-2\",\n",
    "                                        style={'textAlign': 'center','color': '#3838ff','fontSize': 25,'height':\"4vw\"}),\n",
    "                           html.H6(id = \"author-2-citations\",\n",
    "                                        style={'textAlign': 'center','color': '#3838ff','fontSize': 15,'height':\"1vw\"})])       \n",
    "                               ) \n",
    "                      ]),\n",
    "                  dbc.Col([\n",
    "                       dbc.Card(dbc.CardBody(\n",
    "                           [html.H4(id = \"author-3\",\n",
    "                                        style={'textAlign': 'center','color': '#8585ff','fontSize': 25,'height':\"4vw\"}),\n",
    "                           html.H6(id = \"author-3-citations\",\n",
    "                                        style={'textAlign': 'center','color': '#8585ff','fontSize': 15,'height':\"1vw\"})])       \n",
    "                               ) \n",
    "                      ]),\n",
    "                  dbc.Col([\n",
    "                       dbc.Card(dbc.CardBody(\n",
    "                           [html.H4(id = \"author-4\",\n",
    "                                        style={'textAlign': 'center','color': '#abbdf2','fontSize': 25,'height':\"4vw\"}),\n",
    "                           html.H6(id = \"author-4-citations\",\n",
    "                                        style={'textAlign': 'center','color': '#abbdf2','fontSize': 15,'height':\"1vw\"})])       \n",
    "                               ) \n",
    "                      ]),\n",
    "                  dbc.Col([\n",
    "                       dbc.Card(dbc.CardBody(\n",
    "                           [html.H4(id = \"author-5\",\n",
    "                                        style={'textAlign': 'center','color': \"#e0e0ff\",'fontSize': 25,'height':\"4vw\"}),\n",
    "                           html.H6(id = \"author-5-citations\",\n",
    "                                        style={'textAlign': 'center','color': '#e0e0ff','fontSize': 15,'height':\"1vw\"})])       \n",
    "                               ) \n",
    "                      ]),\n",
    "              ]),\n",
    "              html.Br(),\n",
    "              html.Br(),\n",
    "              dbc.Row([\n",
    "                  html.H5(children=[\"Top 5 Institutions with Research in the Selected Field\"],style={'textAlign': 'center'}),\n",
    "                  dbc.Col([\n",
    "                       dbc.Card(dbc.CardBody(\n",
    "                           [html.H4(id = \"institute-1\",\n",
    "                                        style={'textAlign': 'center','color': '#da9100','fontSize': 25,'height':\"5vw\"}),\n",
    "                           html.H6(id = \"institute-1-citations\",\n",
    "                                        style={'textAlign': 'center','color': '#da9100','fontSize': 15,'height':\"1vw\"})])       \n",
    "                               ) \n",
    "                      ]),\n",
    "                  dbc.Col([\n",
    "                       dbc.Card(dbc.CardBody(\n",
    "                           [html.H4(id = \"institute-2\",\n",
    "                                        style={'textAlign': 'center','color': '#fcc200','fontSize': 25,'height':\"5vw\"}),\n",
    "                           html.H6(id = \"institute-2-citations\",\n",
    "                                        style={'textAlign': 'center','color': '#fcc200','fontSize': 15,'height':\"1vw\"})])       \n",
    "                               ) \n",
    "                      ]),\n",
    "                  dbc.Col([\n",
    "                       dbc.Card(dbc.CardBody(\n",
    "                           [html.H4(id = \"institute-3\",\n",
    "                                        style={'textAlign': 'center','color': '#ffe347','fontSize': 25,'height':\"5vw\"}),\n",
    "                           html.H6(id = \"institute-3-citations\",\n",
    "                                        style={'textAlign': 'center','color': '#ffe347','fontSize': 15,'height':\"1vw\"})])       \n",
    "                               ) \n",
    "                      ]),\n",
    "                  dbc.Col([\n",
    "                       dbc.Card(dbc.CardBody(\n",
    "                           [html.H4(id = \"institute-4\",\n",
    "                                        style={'textAlign': 'center','color': '#ffeb7a','fontSize': 25,'height':\"5vw\"}),\n",
    "                           html.H6(id = \"institute-4-citations\",\n",
    "                                        style={'textAlign': 'center','color': '#ffeb7a','fontSize': 15,'height':\"1vw\"})])       \n",
    "                               ) \n",
    "                      ]),\n",
    "                  dbc.Col([\n",
    "                       dbc.Card(dbc.CardBody(\n",
    "                           [html.H4(id = \"institute-5\",\n",
    "                                        style={'textAlign': 'center','color': \"#eee8aa\",'fontSize': 25,'height':\"5vw\"}),\n",
    "                           html.H6(id = \"institute-5-citations\",\n",
    "                                        style={'textAlign': 'center','color': '#eee8aa','fontSize': 15,'height':\"1vw\"})])       \n",
    "                               ) \n",
    "                      ]),\n",
    "              ]),\n",
    "              html.Br()\n",
    "\n",
    "          ])\n",
    "])\n",
    "\n",
    "@app.callback(Output(component_id=\"papers-table\", component_property=\"figure\"),\n",
    "               [Input(component_id=\"topic-select\", component_property=\"value\"),\n",
    "                Input(component_id=\"year-select\", component_property=\"value\")])\n",
    "\n",
    "def update_table(topic_input,year_input):\n",
    "#     top_author, top_institutes, top_paper, timeline_data, type_data, countries_data = main_topic(topic_input, year_input)\n",
    "    global main_topic_df\n",
    "    main_topic_df = main_topic(topic_input, year_input).cache()\n",
    "    \n",
    "    df = top_papers(10).toPandas()\n",
    "\n",
    "    fig = go.Figure(data=[go.Table(\n",
    "          header=dict(values=[\"Title\",\"Year of Publication\",\"Citation Count\",\"authors\"],\n",
    "                      fill_color='black',\n",
    "                      align='left',\n",
    "                      font=dict(color=\"white\", size = 14)),\n",
    "          cells=dict(values=[df.papertitle.apply(lambda x : x.capitalize()),df.year,df.citationcount,\n",
    "                            df.authors.apply(lambda x: ', '.join(map(str, x))).apply(lambda x : x.title())],\n",
    "                    fill_color='#d1d1ff', font=dict(color='black', size=14),\n",
    "                    align='left'))\n",
    "        ])\n",
    "    title = f\"Top Papers in {topic_input} from {year_input[0]} to {year_input[1]}\"\n",
    "    fig.layout.template = \"plotly_dark\"\n",
    "    fig.update_layout(plot_bgcolor='rgba(0, 0, 0, 0)',paper_bgcolor='rgba(0, 0, 0, 0)',\n",
    "                      title = title,title_x =0.5, margin=dict(l=20, r=20, t=30, b=20))\n",
    "    return fig\n",
    "\n",
    "\n",
    "## scatter plot\n",
    "@app.callback(Output(component_id=\"scatter-plot\", component_property=\"figure\"),\n",
    "               [Input(component_id=\"topic-select\", component_property=\"value\"),\n",
    "                Input(component_id=\"year-select\", component_property=\"value\")])\n",
    "\n",
    "def update_scatter(topic_input,year_input):\n",
    "    df = main_topic_df.select(\"id\",\"year\",\"citationcount\")\\\n",
    "        .orderBy(\"year\").toPandas()\n",
    "    title = f\"Citation Count per Year for Papers in {topic_input}\"\n",
    "    fig = px.scatter(df,x=\"year\",y=\"citationcount\", opacity=0.5, title = title)\n",
    "    fig.layout.template = \"plotly_dark\"\n",
    "    fig.update_layout(plot_bgcolor='rgba(0, 0, 0, 0)',paper_bgcolor='rgba(0, 0, 0, 0)', title_x =0.5,\n",
    "                     margin=dict(l=20, r=20, t=30, b=20))\n",
    "    return fig\n",
    "\n",
    "## pie chart\n",
    "@app.callback(Output(component_id=\"pie-chart\", component_property=\"figure\"),\n",
    "               [Input(component_id=\"topic-select\", component_property=\"value\"),\n",
    "                Input(component_id=\"year-select\", component_property=\"value\")])\n",
    "\n",
    "def update_pie(topic_input,year_input):\n",
    "    df = main_topic_df.select(\"id\",\"type\").distinct()\\\n",
    "        .filter(\"type is not null\")\\\n",
    "        .groupBy(\"type\").agg(F.count(\"id\").alias(\"number of papers\")).toPandas()\n",
    "    title = f\"Types of Papers under the topic: {topic_input}\"\n",
    "    fig = px.pie(df,names=\"type\",values=\"number of papers\",\n",
    "                hole = 0.7, title = title\n",
    "                                     )\n",
    "    fig.update_traces( title_font = dict(size=25,family='Verdana', \n",
    "                                        color='white'),\n",
    "                       hoverinfo='label+percent',\n",
    "                       textinfo='percent', textfont_size=12)\n",
    "    \n",
    "    fig.layout.template = \"plotly_dark\"\n",
    "    fig.update_layout(plot_bgcolor='rgba(0, 0, 0, 0)',paper_bgcolor='rgba(0, 0, 0, 0)', title_x =0.5,\n",
    "                     margin=dict(l=20, r=20, t=30, b=20))\n",
    "    return fig\n",
    "\n",
    "## choropleth chart\n",
    "@app.callback(Output(component_id=\"choropleth-chart\", component_property=\"figure\"),\n",
    "               [Input(component_id=\"topic-select\", component_property=\"value\"),\n",
    "                Input(component_id=\"year-select\", component_property=\"value\")])\n",
    "\n",
    "def display_choropleth(topic_input,year_input):\n",
    "    exploded_authors_df = exploded_authors()\n",
    "    fig = countries()\n",
    "    title = f\"Country wise Contribution in {topic_input.upper()} from {year_input[0]} to {year_input[1]}\"\n",
    "    fig.layout.template = \"plotly_dark\"\n",
    "    fig.update_layout(plot_bgcolor='rgba(0, 0, 0, 0)',paper_bgcolor='rgba(0, 0, 0, 0)', title=title, title_x =0.5,\n",
    "                     margin=dict(l=20, r=20, t=30, b=20))\n",
    "    return fig\n",
    "\n",
    "    \n",
    "## author cards\n",
    "@app.callback([Output(component_id=\"author-1\", component_property=\"children\"),\n",
    "               Output(component_id=\"author-1-citations\", component_property=\"children\"),\n",
    "               Output(component_id=\"author-2\", component_property=\"children\"),\n",
    "               Output(component_id=\"author-2-citations\", component_property=\"children\"),\n",
    "               Output(component_id=\"author-3\", component_property=\"children\"),\n",
    "               Output(component_id=\"author-3-citations\", component_property=\"children\"),\n",
    "               Output(component_id=\"author-4\", component_property=\"children\"),\n",
    "               Output(component_id=\"author-4-citations\", component_property=\"children\"),\n",
    "               Output(component_id=\"author-5\", component_property=\"children\"),\n",
    "               Output(component_id=\"author-5-citations\", component_property=\"children\")\n",
    "              ],\n",
    "               [Input(component_id=\"topic-select\", component_property=\"value\"),\n",
    "                Input(component_id=\"year-select\", component_property=\"value\")])\n",
    "def update_author(topic_input,year_input):\n",
    "    main_topic_df = main_topic(topic_input,year_input)\n",
    "    exploded_authors_df = exploded_authors()\n",
    "    top_authors_data = top_authors(5).toPandas()\n",
    "    output = []\n",
    "    for i in range(top_authors_data.shape[0]):\n",
    "        output.append(top_authors_data['name'][i].title())\n",
    "        output.append(f\"Citation Count: {top_authors_data['citationcount'][i]}\")\n",
    "        \n",
    "    if len(output) == 10:\n",
    "        return output\n",
    "    else:\n",
    "        remaining_len = 10 - len(output)\n",
    "        for i in range(remaining_len):\n",
    "            output.append(\"NA\")\n",
    "        return output\n",
    "\n",
    "    \n",
    "# institution cards\n",
    "@app.callback([Output(component_id=\"institute-1\", component_property=\"children\"),\n",
    "               Output(component_id=\"institute-1-citations\", component_property=\"children\"),\n",
    "               Output(component_id=\"institute-2\", component_property=\"children\"),\n",
    "               Output(component_id=\"institute-2-citations\", component_property=\"children\"),\n",
    "               Output(component_id=\"institute-3\", component_property=\"children\"),\n",
    "               Output(component_id=\"institute-3-citations\", component_property=\"children\"),\n",
    "               Output(component_id=\"institute-4\", component_property=\"children\"),\n",
    "               Output(component_id=\"institute-4-citations\", component_property=\"children\"),\n",
    "               Output(component_id=\"institute-5\", component_property=\"children\"),\n",
    "               Output(component_id=\"institute-5-citations\", component_property=\"children\")\n",
    "              ],\n",
    "               [Input(component_id=\"topic-select\", component_property=\"value\"),\n",
    "                Input(component_id=\"year-select\", component_property=\"value\")])\n",
    "def update_institute(topic_input,year_input):\n",
    "    main_topic_df = main_topic(topic_input,year_input)\n",
    "    exploded_authors_df = exploded_authors()\n",
    "    top_institutes_data = top_institutions(5).toPandas()\n",
    "    output = []\n",
    "    for i in range(top_institutes_data.shape[0]):\n",
    "        output.append(top_institutes_data['affiliation'][i].title())\n",
    "        output.append(f\"Citation Count: {top_institutes_data['citationcount'][i]}\")\n",
    "        \n",
    "    if len(output) == 10:\n",
    "        return output\n",
    "    else:\n",
    "        remaining_len = 10 - len(output)\n",
    "        for i in range(remaining_len):\n",
    "            output.append(\"NA\")\n",
    "        return output\n",
    "\n",
    "\n",
    "\n",
    "    \n",
    "app.run_server(mode=\"external\",port=\"8081\", debug=True)"
   ]
  },
  {
   "cell_type": "code",
   "execution_count": null,
   "metadata": {},
   "outputs": [],
   "source": [
    "\n",
    "# ## author cards\n",
    "# @app.callback([Output(component_id=\"author-1\", component_property=\"children\"),\n",
    "#                Output(component_id=\"author-1-citations\", component_property=\"children\")],\n",
    "#                [Input(component_id=\"topic-select\", component_property=\"value\"),\n",
    "#                 Input(component_id=\"year-select\", component_property=\"value\")])\n",
    "# def update_author(topic_input,year_input):\n",
    "#     global top_authors_df\n",
    "#     top_authors_df = top_authors().toPandas()\n",
    "#     return [top_authors_df['name'][0].title(), f\"Citation Count: {top_authors_df['citationcount'][0]}\"]\n",
    "\n",
    "\n",
    "# @app.callback([Output(component_id=\"author-2\", component_property=\"children\"),\n",
    "#                Output(component_id=\"author-2-citations\", component_property=\"children\")],\n",
    "#                [Input(component_id=\"topic-select\", component_property=\"value\"),\n",
    "#                 Input(component_id=\"year-select\", component_property=\"value\")])\n",
    "# def update_author(topic_input,year_input):\n",
    "# #     top_authors_df = top_authors().toPandas() \n",
    "#     return [top_authors_df['name'][1].title(), f\"Citation Count: {top_authors_df['citationcount'][1]}\"]\n",
    "    \n",
    "\n",
    "# @app.callback([Output(component_id=\"author-3\", component_property=\"children\"),\n",
    "#                Output(component_id=\"author-3-citations\", component_property=\"children\")],\n",
    "#                [Input(component_id=\"topic-select\", component_property=\"value\"),\n",
    "#                 Input(component_id=\"year-select\", component_property=\"value\")])\n",
    "# def update_author(topic_input,year_input):\n",
    "#     return [top_authors_df['name'][2].title(), f\"Citation Count: {top_authors_df['citationcount'][2]}\"]\n",
    "\n",
    "# @app.callback([Output(component_id=\"author-4\", component_property=\"children\"),\n",
    "#                Output(component_id=\"author-4-citations\", component_property=\"children\")],\n",
    "#                [Input(component_id=\"topic-select\", component_property=\"value\"),\n",
    "#                 Input(component_id=\"year-select\", component_property=\"value\")])\n",
    "# def update_author(topic_input,year_input):\n",
    "#     return [top_authors_df['name'][3].title(), f\"Citation Count: {top_authors_df['citationcount'][3]}\"]\n",
    "\n",
    "# @app.callback([Output(component_id=\"author-5\", component_property=\"children\"),\n",
    "#                Output(component_id=\"author-5-citations\", component_property=\"children\")],\n",
    "#                [Input(component_id=\"topic-select\", component_property=\"value\"),\n",
    "#                 Input(component_id=\"year-select\", component_property=\"value\")])\n",
    "# def update_author(topic_input,year_input):\n",
    "#     return [top_authors_df['name'][4].title(), f\"Citation Count: {top_authors_df['citationcount'][4]}\"]\n",
    "\n",
    "   \n",
    "# ## institution cards\n",
    "# @app.callback([Output(component_id=\"institute-1\", component_property=\"children\"),\n",
    "#                Output(component_id=\"institute-1-citations\", component_property=\"children\")],\n",
    "#                [Input(component_id=\"topic-select\", component_property=\"value\"),\n",
    "#                 Input(component_id=\"year-select\", component_property=\"value\")])\n",
    "# def update_institute(topic_input,year_input):\n",
    "#     global top_institutes_df\n",
    "#     top_institutes_df = exploded_authors_topic.select(\"id\",\"affiliation\",\"citationcount\").distinct()\\\n",
    "#                         .groupBy([\"affiliation\"]).agg(F.sum(\"citationcount\").alias(\"citationcount\"))\\\n",
    "#                         .filter(\"affiliation is not null\")\\\n",
    "#                         .orderBy(\"citationcount\", ascending=False).limit(5).toPandas()\n",
    "# #     top_institutes_df = top_institutes.toPandas()\n",
    "#     return [top_institutes_df['affiliation'][0].title(), f\"Citation Count: {top_institutes_df['citationcount'][0]}\"]\n",
    "\n",
    "\n",
    "# @app.callback([Output(component_id=\"institute-2\", component_property=\"children\"),\n",
    "#                Output(component_id=\"institute-2-citations\", component_property=\"children\")],\n",
    "#                [Input(component_id=\"topic-select\", component_property=\"value\"),\n",
    "#                 Input(component_id=\"year-select\", component_property=\"value\")])\n",
    "# def update_institute(topic_input,year_input):\n",
    "#     return [top_institutes_df['affiliation'][1].title(), f\"Citation Count: {top_institutes_df['citationcount'][1]}\"]\n",
    "\n",
    "# @app.callback([Output(component_id=\"institute-3\", component_property=\"children\"),\n",
    "#                Output(component_id=\"institute-3-citations\", component_property=\"children\")],\n",
    "#                [Input(component_id=\"topic-select\", component_property=\"value\"),\n",
    "#                 Input(component_id=\"year-select\", component_property=\"value\")])\n",
    "# def update_institute(topic_input,year_input):\n",
    "#     return [top_institutes_df['affiliation'][2].title(), f\"Citation Count: {top_institutes_df['citationcount'][2]}\"]\n",
    "\n",
    "\n",
    "# @app.callback([Output(component_id=\"institute-4\", component_property=\"children\"),\n",
    "#                Output(component_id=\"institute-4-citations\", component_property=\"children\")],\n",
    "#                [Input(component_id=\"topic-select\", component_property=\"value\"),\n",
    "#                 Input(component_id=\"year-select\", component_property=\"value\")])\n",
    "# def update_institute(topic_input,year_input):\n",
    "#     return [top_institutes_df['affiliation'][3].title(), f\"Citation Count: {top_institutes_df['citationcount'][3]}\"]\n",
    "\n",
    "# @app.callback([Output(component_id=\"institute-5\", component_property=\"children\"),\n",
    "#                Output(component_id=\"institute-5-citations\", component_property=\"children\")],\n",
    "#                [Input(component_id=\"topic-select\", component_property=\"value\"),\n",
    "#                 Input(component_id=\"year-select\", component_property=\"value\")])\n",
    "# def update_institute(topic_input,year_input):\n",
    "#     return [top_institutes_df['affiliation'][4].title(), f\"Citation Count: {top_institutes_df['citationcount'][4]}\"]"
   ]
  }
 ],
 "metadata": {
  "colab": {
   "collapsed_sections": [],
   "name": "page-AUTHORS.ipynb",
   "provenance": [],
   "toc_visible": true
  },
  "kernelspec": {
   "display_name": "Python 3",
   "language": "python",
   "name": "python3"
  },
  "language_info": {
   "codemirror_mode": {
    "name": "ipython",
    "version": 3
   },
   "file_extension": ".py",
   "mimetype": "text/x-python",
   "name": "python",
   "nbconvert_exporter": "python",
   "pygments_lexer": "ipython3",
   "version": "3.8.3"
  }
 },
 "nbformat": 4,
 "nbformat_minor": 1
}
